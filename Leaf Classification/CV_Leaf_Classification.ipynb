{
  "nbformat": 4,
  "nbformat_minor": 0,
  "metadata": {
    "colab": {
      "provenance": [],
      "machine_shape": "hm",
      "gpuType": "L4"
    },
    "kernelspec": {
      "name": "python3",
      "display_name": "Python 3"
    },
    "language_info": {
      "name": "python"
    },
    "accelerator": "GPU"
  },
  "cells": [
    {
      "cell_type": "markdown",
      "source": [
        "packages are imported"
      ],
      "metadata": {
        "id": "rsDq0S9481Yh"
      }
    },
    {
      "cell_type": "code",
      "source": [
        "from google.colab import drive  # For mounting Google Drive\n",
        "import zipfile  # For handling zip files\n",
        "import os  # For file and directory operations\n",
        "import pandas as pd  # For data manipulation with DataFrames\n",
        "import numpy as np  # For numerical operations\n",
        "import matplotlib.pyplot as plt  # For data visualization\n",
        "import cv2  # For image processing\n",
        "from sklearn.preprocessing import LabelEncoder  # For encoding labels\n",
        "from tensorflow.keras.preprocessing.image import (  # For image loading and processing\n",
        "    load_img,\n",
        "    img_to_array,\n",
        "    ImageDataGenerator,\n",
        ")\n",
        "from tensorflow.keras.models import Sequential  # For building sequential models\n",
        "from tensorflow.keras.layers import (  # For adding layers to the model\n",
        "    Conv2D,\n",
        "    MaxPooling2D,\n",
        "    Flatten,\n",
        "    Dense,\n",
        "    Dropout,\n",
        ")\n",
        "from tensorflow.keras.utils import to_categorical  # For categorical conversion\n",
        "from tensorflow.keras.optimizers import Adam, SGD  # For optimizers\n",
        "from tensorflow.keras.callbacks import EarlyStopping  # For early stopping during training\n",
        "from keras.layers import BatchNormalization\n",
        "import numpy as np\n",
        "import cv2\n",
        "import matplotlib.pyplot as plt\n",
        "from keras.models import Model\n",
        "from keras.applications import VGG16\n",
        "from keras.models import Sequential\n",
        "from keras.layers import Flatten, Dense, Dropout\n",
        "from keras.optimizers import Adam, SGD\n",
        "from keras.callbacks import EarlyStopping, ModelCheckpoint\n",
        "import matplotlib.pyplot as plt\n",
        "import numpy as np\n",
        "from sklearn.metrics import confusion_matrix, classification_report\n",
        "import seaborn as sns\n"
      ],
      "metadata": {
        "id": "1jxNcXsucPWV"
      },
      "execution_count": 1,
      "outputs": []
    },
    {
      "cell_type": "markdown",
      "source": [
        "Google collab is mounted into my googledrive to access the datafiles."
      ],
      "metadata": {
        "id": "DjF-tQKr86Yh"
      }
    },
    {
      "cell_type": "code",
      "execution_count": 2,
      "metadata": {
        "colab": {
          "base_uri": "https://localhost:8080/"
        },
        "id": "EkKE5JFeXAqg",
        "outputId": "baa9bc5d-c860-43d3-bc25-458cb826afb2"
      },
      "outputs": [
        {
          "output_type": "stream",
          "name": "stdout",
          "text": [
            "Mounted at /content/drive\n",
            "images\t    sample_submission.csv      test.csv      train.csv\n",
            "images.zip  sample_submission.csv.zip  test.csv.zip  train.csv.zip\n"
          ]
        }
      ],
      "source": [
        "from google.colab import drive\n",
        "import zipfile\n",
        "import os\n",
        "\n",
        "# Mount Google Drive\n",
        "drive.mount('/content/drive')\n",
        "\n",
        "# Path to the main zip file in Google Drive\n",
        "main_zip = \"/content/drive/My Drive/Colab Notebooks/Leaf Data/leaf-classification.zip\"\n",
        "\n",
        "# Extract the main zip file\n",
        "with zipfile.ZipFile(main_zip, 'r') as zip_ref:\n",
        "    zip_ref.extractall(\"/content/leaf_data\")\n",
        "\n",
        "# Extract nested zips: images.zip, train.csv.zip, test.csv.zip, sample_submission.csv.zip\n",
        "nested_zips = ['images.zip', 'train.csv.zip', 'test.csv.zip', 'sample_submission.csv.zip']\n",
        "\n",
        "for z in nested_zips:\n",
        "    with zipfile.ZipFile(f\"/content/leaf_data/{z}\", 'r') as zip_ref:\n",
        "        zip_ref.extractall(\"/content/leaf_data\")\n",
        "\n",
        "# Verify the extracted files\n",
        "!ls /content/leaf_data\n"
      ]
    },
    {
      "cell_type": "markdown",
      "source": [
        "The train and test data CSV files are loaded into the session. They layout of the data is checked to ensure the data was loaded properly. The shape of the data was also obtained to ensure all of the data was loaded in."
      ],
      "metadata": {
        "id": "rwr9fDps9EWp"
      }
    },
    {
      "cell_type": "code",
      "source": [
        "\n",
        "# Load train and test CSVs\n",
        "train = pd.read_csv(\"/content/leaf_data/train.csv\")\n",
        "test = pd.read_csv(\"/content/leaf_data/test.csv\")\n",
        "\n",
        "# Display basic information\n",
        "print(train.head())\n",
        "print(f\"Train shape: {train.shape}\")\n",
        "print(f\"Test shape: {test.shape}\")\n",
        "\n",
        "# Check columns to ensure they are loaded in correctly\n",
        "print(train.columns)\n",
        "\n"
      ],
      "metadata": {
        "colab": {
          "base_uri": "https://localhost:8080/"
        },
        "id": "hf6EjZ4BXV3P",
        "outputId": "35fec11a-aaf0-4b15-cd53-6262d26d5897"
      },
      "execution_count": 3,
      "outputs": [
        {
          "output_type": "stream",
          "name": "stdout",
          "text": [
            "   id                species   margin1   margin2   margin3   margin4  \\\n",
            "0   1            Acer_Opalus  0.007812  0.023438  0.023438  0.003906   \n",
            "1   2  Pterocarya_Stenoptera  0.005859  0.000000  0.031250  0.015625   \n",
            "2   3   Quercus_Hartwissiana  0.005859  0.009766  0.019531  0.007812   \n",
            "3   5        Tilia_Tomentosa  0.000000  0.003906  0.023438  0.005859   \n",
            "4   6     Quercus_Variabilis  0.005859  0.003906  0.048828  0.009766   \n",
            "\n",
            "    margin5   margin6   margin7  margin8  ...  texture55  texture56  \\\n",
            "0  0.011719  0.009766  0.027344      0.0  ...   0.007812   0.000000   \n",
            "1  0.025391  0.001953  0.019531      0.0  ...   0.000977   0.000000   \n",
            "2  0.003906  0.005859  0.068359      0.0  ...   0.154300   0.000000   \n",
            "3  0.021484  0.019531  0.023438      0.0  ...   0.000000   0.000977   \n",
            "4  0.013672  0.015625  0.005859      0.0  ...   0.096680   0.000000   \n",
            "\n",
            "   texture57  texture58  texture59  texture60  texture61  texture62  \\\n",
            "0   0.002930   0.002930   0.035156        0.0        0.0   0.004883   \n",
            "1   0.000000   0.000977   0.023438        0.0        0.0   0.000977   \n",
            "2   0.005859   0.000977   0.007812        0.0        0.0   0.000000   \n",
            "3   0.000000   0.000000   0.020508        0.0        0.0   0.017578   \n",
            "4   0.021484   0.000000   0.000000        0.0        0.0   0.000000   \n",
            "\n",
            "   texture63  texture64  \n",
            "0   0.000000   0.025391  \n",
            "1   0.039062   0.022461  \n",
            "2   0.020508   0.002930  \n",
            "3   0.000000   0.047852  \n",
            "4   0.000000   0.031250  \n",
            "\n",
            "[5 rows x 194 columns]\n",
            "Train shape: (990, 194)\n",
            "Test shape: (594, 193)\n",
            "Index(['id', 'species', 'margin1', 'margin2', 'margin3', 'margin4', 'margin5',\n",
            "       'margin6', 'margin7', 'margin8',\n",
            "       ...\n",
            "       'texture55', 'texture56', 'texture57', 'texture58', 'texture59',\n",
            "       'texture60', 'texture61', 'texture62', 'texture63', 'texture64'],\n",
            "      dtype='object', length=194)\n"
          ]
        }
      ]
    },
    {
      "cell_type": "markdown",
      "source": [
        "Here we define our image directory to be called upon in the code.\n",
        "\n",
        "A list called \"missing_items\" is created that will store any image ids that are not found in the image folder. After running this chucnk we are given confirmation that all our images are accounted for."
      ],
      "metadata": {
        "id": "HoK8jI3b9U3s"
      }
    },
    {
      "cell_type": "code",
      "source": [
        "\n",
        "# Define the directory where images are stored\n",
        "image_dir = \"/content/leaf_data/images\"  # Adjust this path to your training images directory\n",
        "\n",
        "\n",
        "\n",
        "# Step 2: Check for the presence of images in the directory\n",
        "missing_images = []\n",
        "for img_id in train['id']:\n",
        "    img_path = os.path.join(image_dir, f\"{img_id}.jpg\")  # Adjust this if images have a different extension\n",
        "    if not os.path.exists(img_path):\n",
        "        missing_images.append(img_id)\n",
        "\n",
        "if missing_images:\n",
        "    print(f\"Missing images for IDs: {missing_images}\")\n",
        "else:\n",
        "    print(\"All images found.\")"
      ],
      "metadata": {
        "colab": {
          "base_uri": "https://localhost:8080/"
        },
        "id": "A9GCOyUmdxr1",
        "outputId": "2afff6ed-0655-4793-efab-9beb295ffe1b"
      },
      "execution_count": 4,
      "outputs": [
        {
          "output_type": "stream",
          "name": "stdout",
          "text": [
            "All images found.\n"
          ]
        }
      ]
    },
    {
      "cell_type": "markdown",
      "source": [
        "A function \"visualize_images\" is defined. This function loads and displays some imaged from the image folder and labels them with their appropriate species class. This gives a good visualization of the images the CNN will attempt to classify. This also ensures that the images are being loaded into the session correctly."
      ],
      "metadata": {
        "id": "iqA7HTdm9slF"
      }
    },
    {
      "cell_type": "code",
      "source": [
        "# Step 3: Visualize images\n",
        "def visualize_images(df, image_dir, num_images=5):\n",
        "    plt.figure(figsize=(15, 5))\n",
        "    for i in range(num_images):\n",
        "        img_id = df.iloc[i]['id']\n",
        "        img_path = os.path.join(image_dir, f\"{img_id}.jpg\")  # Adjust based on your image format\n",
        "        img = cv2.imread(img_path)\n",
        "        img = cv2.cvtColor(img, cv2.COLOR_BGR2RGB)  # Convert BGR to RGB\n",
        "        plt.subplot(1, num_images, i + 1)\n",
        "        plt.imshow(img)\n",
        "        plt.title(df.iloc[i]['species'])\n",
        "        plt.axis('off')\n",
        "    plt.show()\n",
        "\n",
        "# Visualize images\n",
        "visualize_images(train, image_dir)\n"
      ],
      "metadata": {
        "colab": {
          "base_uri": "https://localhost:8080/",
          "height": 244
        },
        "id": "PoBiIC9HdzpN",
        "outputId": "19ef0b2b-251c-4168-efd3-78a926db3294"
      },
      "execution_count": 5,
      "outputs": [
        {
          "output_type": "display_data",
          "data": {
            "text/plain": [
              "<Figure size 1500x500 with 5 Axes>"
            ],
            "image/png": "[encoded data removed]"
          },
          "metadata": {}
        }
      ]
    },
    {
      "cell_type": "markdown",
      "source": [
        "In order for our model to match the images in the image folder to the classification listed in the training csv, the .jpg needed to be added to the end of all the image IDs in the CSV file. The images are named with the ID number in a jpg format. This process is reversed for the testing IDs when the submission CSV is being created.\n",
        "\n",
        "A label encoder is used to encode the species class to integers 0-98 (99 classes). One hot encoding was attempted but yeilded worse results than traditional encoding (loss socres out about .9).\n",
        "\n",
        "To ensure we have 99 classes encoded, I added a print statement."
      ],
      "metadata": {
        "id": "fyRnPSlT-R3N"
      }
    },
    {
      "cell_type": "code",
      "source": [
        "# Add the image extension to the id column for CNN model identification\n",
        "train['id'] = train['id'].astype(str) + '.jpg'\n",
        "\n",
        "# Encode Labels (we have 99 species of leafs that must be encoded) - not using one-hot encoding\n",
        "label_encoder = LabelEncoder()\n",
        "train['species_encoded'] = label_encoder.fit_transform(train['species'])\n",
        "\n",
        "# Display the number of classes to ensure there is 99\n",
        "num_classes = len(np.unique(train['species_encoded']))\n",
        "print(f\"Number of classes: {num_classes}\")\n",
        "\n"
      ],
      "metadata": {
        "colab": {
          "base_uri": "https://localhost:8080/"
        },
        "id": "93Am6gkooDLq",
        "outputId": "f2d95e5a-1737-4b5f-f586-3afeb570de03"
      },
      "execution_count": 6,
      "outputs": [
        {
          "output_type": "stream",
          "name": "stdout",
          "text": [
            "Number of classes: 99\n"
          ]
        }
      ]
    },
    {
      "cell_type": "markdown",
      "source": [
        "A datagen is created to load in the images for use in the CNN model. In the datagen, the pixel values of the images are rescaled to follow a distribution from 0-1 instead of the original 0-255 format. This will prevent our model from having to perform math functions on very large numbers and helps standardize the data. A validation set containing 20% of the data is created.\n",
        "\n",
        "For the most part, data augmentation was not used. Exploring the images, there was no zoom, shear, brightness differences, etc., so image augmentation would not be useful for this model. However, it was discovered that some of the images were horizontally flipped from others (the stem ends could be on both the left and right sides). Due to this observation, horizontal flip was enabled, but vertical flip was not."
      ],
      "metadata": {
        "id": "Su7QMcd__FzL"
      }
    },
    {
      "cell_type": "code",
      "source": [
        "# Define the ImageDataGenerator for training and validation with rescaling and augmentations\n",
        "train_datagen = ImageDataGenerator(\n",
        "    rescale=1.0/255.0,\n",
        "    validation_split=0.2,  # 20% of the data will be used for validation\n",
        "    horizontal_flip=True,   # Enable horizontal flip\n",
        "    vertical_flip=False,     # Enable vertical flip\n",
        ")\n"
      ],
      "metadata": {
        "id": "WpF8XVakLDI5"
      },
      "execution_count": 7,
      "outputs": []
    },
    {
      "cell_type": "markdown",
      "source": [
        "Train and valiation generators were created. The image directory is called, x is defined as the image ID, target variable is defined as species, images are rescaled to fit 128x128 pixels, batch size is 16, sparse clas mode is used becuase one hot encoding was not used, shuffle is set to true, and seed is set for reproducability.\n",
        "\n",
        "Originally batch size was set to 32, resulting in 25 batches in the training data. I found that a batch size of 16 helped the model perform better, as each epoch was allowed 50 weight updates. With the limited number of training samples compared to class numbers (only about 10 training images per class) I decided that more weight updates per epoch was necessary."
      ],
      "metadata": {
        "id": "43uPK3LiAEkR"
      }
    },
    {
      "cell_type": "code",
      "source": [
        "\n",
        "# Define ImageDataGenerator for training with only rescaling\n",
        "train_generator = train_datagen.flow_from_dataframe(\n",
        "    dataframe=train,\n",
        "    directory=image_dir,\n",
        "    x_col='id',\n",
        "    y_col='species',  # Keep this as the original labels\n",
        "    target_size=(128, 128),\n",
        "    batch_size=16,\n",
        "    class_mode='sparse',  # Change to 'sparse' to use sparse categorical crossentropy - becuase we are not using one hot encoding\n",
        "    subset='training',\n",
        "    shuffle=True,\n",
        "    seed=42\n",
        ")\n",
        "\n",
        "validation_generator = train_datagen.flow_from_dataframe(\n",
        "    dataframe=train,\n",
        "    directory=image_dir,\n",
        "    x_col='id',\n",
        "    y_col='species',\n",
        "    target_size=(128, 128),\n",
        "    batch_size=16,\n",
        "    class_mode='sparse',  # Change to 'sparse'\n",
        "    subset='validation',\n",
        "    shuffle=True,\n",
        "    seed=42\n",
        ")\n"
      ],
      "metadata": {
        "colab": {
          "base_uri": "https://localhost:8080/"
        },
        "id": "XrneaKP65VuW",
        "outputId": "ba520218-7e82-4e1c-9a5a-f21c0bcf84de"
      },
      "execution_count": 8,
      "outputs": [
        {
          "output_type": "stream",
          "name": "stdout",
          "text": [
            "Found 792 validated image filenames belonging to 99 classes.\n",
            "Found 198 validated image filenames belonging to 99 classes.\n"
          ]
        }
      ]
    },
    {
      "cell_type": "markdown",
      "source": [
        "The commented out model below was my first raw model. The purpose was to make a simple model that would take the data and train fast to get formatting down and assess the usefulness of a CNN model for this problem. The model was semi-successful, with the best log loss score achieved in the high .5s. This basic model performed better than XGBoost, showing the power of CNN models in image analysis."
      ],
      "metadata": {
        "id": "vsDcY0t3Baxh"
      }
    },
    {
      "cell_type": "code",
      "source": [
        "# Build the CNN model\n",
        "#model = Sequential()\n",
        "#model.add(Conv2D(32, (3, 3), activation='relu', input_shape=(128, 128, 3)))\n",
        "#model.add(MaxPooling2D(pool_size=(2, 2)))\n",
        "#model.add(Conv2D(64, (3, 3), activation='relu'))\n",
        "#model.add(MaxPooling2D(pool_size=(2, 2)))\n",
        "#model.add(Flatten())\n",
        "#model.add(Dense(512, activation='relu'))  # Additional Dense layer\n",
        "#model.add(Dropout(0.5))  # Add Dropout for regularization\n",
        "#model.add(Dense(256, activation='relu'))  # Additional Dense layer\n",
        "#model.add(Dropout(0.3))  # Add Dropout for regularization\n",
        "#model.add(Dense(128, activation='relu'))  # Additional Dense layer\n",
        "#model.add(Dropout(0.2))  # Add Dropout for regularization\n",
        "#model.add(Dense(num_classes, activation='softmax'))  # Output layer\n",
        "\n",
        "#model.summary()\n"
      ],
      "metadata": {
        "id": "TrDzxp2l3y42"
      },
      "execution_count": 9,
      "outputs": []
    },
    {
      "cell_type": "code",
      "source": [
        "# Compile the model with Adam optimizer\n",
        "#model.compile(optimizer=Adam(), loss='sparse_categorical_crossentropy', metrics=['accuracy'])"
      ],
      "metadata": {
        "id": "ONHFHskI7GnX"
      },
      "execution_count": 10,
      "outputs": []
    },
    {
      "cell_type": "code",
      "source": [
        "# Set up EarlyStopping\n",
        "#early_stopping = EarlyStopping(\n",
        " #   monitor='val_loss',  # Metric to monitor\n",
        " #   patience=3,          # Number of epochs with no improvement after which training will be stopped\n",
        "#    restore_best_weights=True  # Restore model weights from the epoch with the best value of the monitored quantity\n",
        "#)\n",
        "\n",
        "# Train the model with Adam optimizer for the first 5 epochs\n",
        "#initial_epochs = 50\n",
        "#history = model.fit(\n",
        " #   train_generator,\n",
        " #   epochs=initial_epochs,\n",
        " #   validation_data=validation_generator,\n",
        " #   callbacks=[early_stopping]  # Include EarlyStopping in callbacks\n",
        "#)\n",
        "\n",
        "# Change to SGD optimizer for further training\n",
        "#model.compile(optimizer=SGD(), loss='sparse_categorical_crossentropy', metrics=['accuracy'])\n",
        "\n",
        "# Train the model with SGD optimizer for additional epochs\n",
        "#additional_epochs = 50  # You can change this value as needed\n",
        "#history_sgd = model.fit(\n",
        " #   train_generator,\n",
        " #   epochs=additional_epochs,\n",
        " #   validation_data=validation_generator,\n",
        " #   callbacks=[early_stopping]  # Include EarlyStopping in callbacks\n",
        "#)"
      ],
      "metadata": {
        "collapsed": true,
        "id": "CGi4sSs97Gpr"
      },
      "execution_count": 11,
      "outputs": []
    },
    {
      "cell_type": "markdown",
      "source": [
        "The chunk below defines the model.\n",
        "The input shape for the model is 128x128x3 pixels. And class number is 99.\n",
        "\n",
        "I import the VGG16 model and use the pre-trained weights to start, making them trainable.\n",
        "\n",
        "I add a deep layer of 256 neurons with the ReLU activation function, batch normalization, and 20% dropout. I found considerable improvement when using batch normalization. Attempts with combinations of 128, 256, 512, and 1024 neuron deep layers utilizing batch sizes of 32 and 16 as well as different dropout rates and enabling and disabling batch normalization were tested with the best and most consistent results below.\n",
        "\n",
        "The model is trained with the Adam optimizer for the first 50 epochs and fine tuned with the SDG optimizer for the next 50 epochs. An early stopper is used to stop training if validation loss does not improve over 5 consecutive epochs, while storring the weights for the best achieved model."
      ],
      "metadata": {
        "id": "Zgl_iCqqCJKN"
      }
    },
    {
      "cell_type": "code",
      "source": [
        "\n",
        "# Define constants\n",
        "input_shape = (128, 128, 3)  # Input shape for the images\n",
        "num_classes = 99  #99 classes/species of leaves\n",
        "\n",
        "# Build the base model - importing VGG16\n",
        "base_model = VGG16(weights='imagenet', include_top=False, input_shape=input_shape)\n",
        "\n",
        "# Freeze the convolutional base\n",
        "for layer in base_model.layers:\n",
        "    layer.trainable = False\n",
        "\n",
        "# Build the complete model\n",
        "model = Sequential()\n",
        "model.add(base_model)\n",
        "model.add(Flatten())\n",
        "model.add(Dense(256, activation='relu')) #add one one dense layer\n",
        "model.add(BatchNormalization()) #normalizes the output of the dense layer\n",
        "model.add(Dropout(0.2)) #randomly dropping 20% of the neurons during each iteration to prevent overfitting\n",
        "model.add(Dense(num_classes, activation='softmax'))\n",
        "\n",
        "# Compile the model with Adam optimizer\n",
        "model.compile(optimizer=Adam(),\n",
        "              loss='sparse_categorical_crossentropy',\n",
        "              metrics=['accuracy'])\n",
        "\n",
        "# Set up EarlyStopping\n",
        "early_stopping = EarlyStopping(\n",
        "    monitor='val_loss',\n",
        "    patience=5, #stops if val_loss does not improve over 5 epochs\n",
        "    restore_best_weights=True\n",
        ")\n",
        "\n",
        "# Set up ModelCheckpoint\n",
        "checkpoint = ModelCheckpoint(\n",
        "    'best_model_vgg16.keras',  # Save model as .keras file\n",
        "    monitor='val_accuracy',\n",
        "    save_best_only=True,\n",
        "    mode='max',  # Save only the best model based on validation accuracy\n",
        "    verbose=1  # Print messages when saving\n",
        ")\n",
        "\n",
        "\n",
        "# Train the model with Adam optimizer\n",
        "initial_epochs = 50\n",
        "history_adam = model.fit(\n",
        "    train_generator,\n",
        "    epochs=initial_epochs,\n",
        "    validation_data=validation_generator,\n",
        "    callbacks=[early_stopping, checkpoint]\n",
        ")\n",
        "\n",
        "# Recompile the model with the SGD optimizer\n",
        "model.compile(optimizer=SGD(),\n",
        "              loss='sparse_categorical_crossentropy',\n",
        "              metrics=['accuracy'])\n",
        "\n",
        "# Train the model with SGD optimizer for additional epochs\n",
        "additional_epochs = 50\n",
        "history_sgd = model.fit(\n",
        "    train_generator,\n",
        "    epochs=additional_epochs,\n",
        "    validation_data=validation_generator,\n",
        "    callbacks=[early_stopping, checkpoint]\n",
        ")\n",
        "\n"
      ],
      "metadata": {
        "colab": {
          "base_uri": "https://localhost:8080/"
        },
        "id": "9sCNIbPGCk_s",
        "outputId": "4cc4f7bf-0caf-4266-9c22-7e41405fae3f"
      },
      "execution_count": 12,
      "outputs": [
        {
          "output_type": "stream",
          "name": "stdout",
          "text": [
            "Downloading data from https://storage.googleapis.com/tensorflow/keras-applications/vgg16/vgg16_weights_tf_dim_ordering_tf_kernels_notop.h5\n",
            "\u001b[1m58889256/58889256\u001b[0m \u001b[32m━━━━━━━━━━━━━━━━━━━━\u001b[0m\u001b[37m\u001b[0m \u001b[1m4s\u001b[0m 0us/step\n",
            "Epoch 1/50\n"
          ]
        },
        {
          "output_type": "stream",
          "name": "stderr",
          "text": [
            "/usr/local/lib/python3.10/dist-packages/keras/src/trainers/data_adapters/py_dataset_adapter.py:121: UserWarning: Your `PyDataset` class should call `super().__init__(**kwargs)` in its constructor. `**kwargs` can include `workers`, `use_multiprocessing`, `max_queue_size`. Do not pass these arguments to `fit()`, as they will be ignored.\n",
            "  self._warn_if_super_not_called()\n"
          ]
        },
        {
          "output_type": "stream",
          "name": "stdout",
          "text": [
            "\u001b[1m49/50\u001b[0m \u001b[32m━━━━━━━━━━━━━━━━━━━\u001b[0m\u001b[37m━\u001b[0m \u001b[1m0s\u001b[0m 115ms/step - accuracy: 0.1690 - loss: 4.1410\n",
            "Epoch 1: val_accuracy improved from -inf to 0.15152, saving model to best_model_vgg16.keras\n",
            "\u001b[1m50/50\u001b[0m \u001b[32m━━━━━━━━━━━━━━━━━━━━\u001b[0m\u001b[37m\u001b[0m \u001b[1m17s\u001b[0m 185ms/step - accuracy: 0.1735 - loss: 4.1133 - val_accuracy: 0.1515 - val_loss: 4.0114\n",
            "Epoch 2/50\n",
            "\u001b[1m49/50\u001b[0m \u001b[32m━━━━━━━━━━━━━━━━━━━\u001b[0m\u001b[37m━\u001b[0m \u001b[1m0s\u001b[0m 25ms/step - accuracy: 0.6689 - loss: 1.7914\n",
            "Epoch 2: val_accuracy improved from 0.15152 to 0.46970, saving model to best_model_vgg16.keras\n",
            "\u001b[1m50/50\u001b[0m \u001b[32m━━━━━━━━━━━━━━━━━━━━\u001b[0m\u001b[37m\u001b[0m \u001b[1m2s\u001b[0m 43ms/step - accuracy: 0.6695 - loss: 1.7860 - val_accuracy: 0.4697 - val_loss: 2.3103\n",
            "Epoch 3/50\n",
            "\u001b[1m48/50\u001b[0m \u001b[32m━━━━━━━━━━━━━━━━━━━\u001b[0m\u001b[37m━\u001b[0m \u001b[1m0s\u001b[0m 26ms/step - accuracy: 0.8113 - loss: 1.0788\n",
            "Epoch 3: val_accuracy improved from 0.46970 to 0.66162, saving model to best_model_vgg16.keras\n",
            "\u001b[1m50/50\u001b[0m \u001b[32m━━━━━━━━━━━━━━━━━━━━\u001b[0m\u001b[37m\u001b[0m \u001b[1m2s\u001b[0m 42ms/step - accuracy: 0.8128 - loss: 1.0735 - val_accuracy: 0.6616 - val_loss: 1.4993\n",
            "Epoch 4/50\n",
            "\u001b[1m50/50\u001b[0m \u001b[32m━━━━━━━━━━━━━━━━━━━━\u001b[0m\u001b[37m\u001b[0m \u001b[1m0s\u001b[0m 27ms/step - accuracy: 0.9003 - loss: 0.6331\n",
            "Epoch 4: val_accuracy improved from 0.66162 to 0.77778, saving model to best_model_vgg16.keras\n",
            "\u001b[1m50/50\u001b[0m \u001b[32m━━━━━━━━━━━━━━━━━━━━\u001b[0m\u001b[37m\u001b[0m \u001b[1m2s\u001b[0m 44ms/step - accuracy: 0.9002 - loss: 0.6333 - val_accuracy: 0.7778 - val_loss: 0.9425\n",
            "Epoch 5/50\n",
            "\u001b[1m49/50\u001b[0m \u001b[32m━━━━━━━━━━━━━━━━━━━\u001b[0m\u001b[37m━\u001b[0m \u001b[1m0s\u001b[0m 25ms/step - accuracy: 0.9163 - loss: 0.4801\n",
            "Epoch 5: val_accuracy improved from 0.77778 to 0.82323, saving model to best_model_vgg16.keras\n",
            "\u001b[1m50/50\u001b[0m \u001b[32m━━━━━━━━━━━━━━━━━━━━\u001b[0m\u001b[37m\u001b[0m \u001b[1m2s\u001b[0m 42ms/step - accuracy: 0.9165 - loss: 0.4793 - val_accuracy: 0.8232 - val_loss: 0.7409\n",
            "Epoch 6/50\n",
            "\u001b[1m46/50\u001b[0m \u001b[32m━━━━━━━━━━━━━━━━━━\u001b[0m\u001b[37m━━\u001b[0m \u001b[1m0s\u001b[0m 27ms/step - accuracy: 0.9746 - loss: 0.2861\n",
            "Epoch 6: val_accuracy improved from 0.82323 to 0.87879, saving model to best_model_vgg16.keras\n",
            "\u001b[1m50/50\u001b[0m \u001b[32m━━━━━━━━━━━━━━━━━━━━\u001b[0m\u001b[37m\u001b[0m \u001b[1m2s\u001b[0m 42ms/step - accuracy: 0.9730 - loss: 0.2885 - val_accuracy: 0.8788 - val_loss: 0.5669\n",
            "Epoch 7/50\n",
            "\u001b[1m48/50\u001b[0m \u001b[32m━━━━━━━━━━━━━━━━━━━\u001b[0m\u001b[37m━\u001b[0m \u001b[1m0s\u001b[0m 25ms/step - accuracy: 0.9719 - loss: 0.2493\n",
            "Epoch 7: val_accuracy improved from 0.87879 to 0.91414, saving model to best_model_vgg16.keras\n",
            "\u001b[1m50/50\u001b[0m \u001b[32m━━━━━━━━━━━━━━━━━━━━\u001b[0m\u001b[37m\u001b[0m \u001b[1m2s\u001b[0m 42ms/step - accuracy: 0.9720 - loss: 0.2489 - val_accuracy: 0.9141 - val_loss: 0.5153\n",
            "Epoch 8/50\n",
            "\u001b[1m48/50\u001b[0m \u001b[32m━━━━━━━━━━━━━━━━━━━\u001b[0m\u001b[37m━\u001b[0m \u001b[1m0s\u001b[0m 26ms/step - accuracy: 0.9843 - loss: 0.1616\n",
            "Epoch 8: val_accuracy did not improve from 0.91414\n",
            "\u001b[1m50/50\u001b[0m \u001b[32m━━━━━━━━━━━━━━━━━━━━\u001b[0m\u001b[37m\u001b[0m \u001b[1m2s\u001b[0m 34ms/step - accuracy: 0.9841 - loss: 0.1625 - val_accuracy: 0.8687 - val_loss: 0.5146\n",
            "Epoch 9/50\n",
            "\u001b[1m48/50\u001b[0m \u001b[32m━━━━━━━━━━━━━━━━━━━\u001b[0m\u001b[37m━\u001b[0m \u001b[1m0s\u001b[0m 26ms/step - accuracy: 0.9686 - loss: 0.1636\n",
            "Epoch 9: val_accuracy did not improve from 0.91414\n",
            "\u001b[1m50/50\u001b[0m \u001b[32m━━━━━━━━━━━━━━━━━━━━\u001b[0m\u001b[37m\u001b[0m \u001b[1m2s\u001b[0m 34ms/step - accuracy: 0.9687 - loss: 0.1635 - val_accuracy: 0.9091 - val_loss: 0.3930\n",
            "Epoch 10/50\n",
            "\u001b[1m50/50\u001b[0m \u001b[32m━━━━━━━━━━━━━━━━━━━━\u001b[0m\u001b[37m\u001b[0m \u001b[1m0s\u001b[0m 26ms/step - accuracy: 0.9729 - loss: 0.1395\n",
            "Epoch 10: val_accuracy did not improve from 0.91414\n",
            "\u001b[1m50/50\u001b[0m \u001b[32m━━━━━━━━━━━━━━━━━━━━\u001b[0m\u001b[37m\u001b[0m \u001b[1m2s\u001b[0m 34ms/step - accuracy: 0.9730 - loss: 0.1396 - val_accuracy: 0.8636 - val_loss: 0.4413\n",
            "Epoch 11/50\n",
            "\u001b[1m48/50\u001b[0m \u001b[32m━━━━━━━━━━━━━━━━━━━\u001b[0m\u001b[37m━\u001b[0m \u001b[1m0s\u001b[0m 26ms/step - accuracy: 0.9895 - loss: 0.1016\n",
            "Epoch 11: val_accuracy did not improve from 0.91414\n",
            "\u001b[1m50/50\u001b[0m \u001b[32m━━━━━━━━━━━━━━━━━━━━\u001b[0m\u001b[37m\u001b[0m \u001b[1m2s\u001b[0m 32ms/step - accuracy: 0.9893 - loss: 0.1016 - val_accuracy: 0.8788 - val_loss: 0.4313\n",
            "Epoch 12/50\n",
            "\u001b[1m48/50\u001b[0m \u001b[32m━━━━━━━━━━━━━━━━━━━\u001b[0m\u001b[37m━\u001b[0m \u001b[1m0s\u001b[0m 26ms/step - accuracy: 0.9894 - loss: 0.0864\n",
            "Epoch 12: val_accuracy did not improve from 0.91414\n",
            "\u001b[1m50/50\u001b[0m \u001b[32m━━━━━━━━━━━━━━━━━━━━\u001b[0m\u001b[37m\u001b[0m \u001b[1m2s\u001b[0m 33ms/step - accuracy: 0.9895 - loss: 0.0859 - val_accuracy: 0.9141 - val_loss: 0.3415\n",
            "Epoch 13/50\n",
            "\u001b[1m48/50\u001b[0m \u001b[32m━━━━━━━━━━━━━━━━━━━\u001b[0m\u001b[37m━\u001b[0m \u001b[1m0s\u001b[0m 26ms/step - accuracy: 1.0000 - loss: 0.0431\n",
            "Epoch 13: val_accuracy did not improve from 0.91414\n",
            "\u001b[1m50/50\u001b[0m \u001b[32m━━━━━━━━━━━━━━━━━━━━\u001b[0m\u001b[37m\u001b[0m \u001b[1m2s\u001b[0m 33ms/step - accuracy: 0.9999 - loss: 0.0433 - val_accuracy: 0.9141 - val_loss: 0.3571\n",
            "Epoch 14/50\n",
            "\u001b[1m48/50\u001b[0m \u001b[32m━━━━━━━━━━━━━━━━━━━\u001b[0m\u001b[37m━\u001b[0m \u001b[1m0s\u001b[0m 25ms/step - accuracy: 0.9957 - loss: 0.0460\n",
            "Epoch 14: val_accuracy did not improve from 0.91414\n",
            "\u001b[1m50/50\u001b[0m \u001b[32m━━━━━━━━━━━━━━━━━━━━\u001b[0m\u001b[37m\u001b[0m \u001b[1m2s\u001b[0m 32ms/step - accuracy: 0.9957 - loss: 0.0461 - val_accuracy: 0.8939 - val_loss: 0.3578\n",
            "Epoch 15/50\n",
            "\u001b[1m48/50\u001b[0m \u001b[32m━━━━━━━━━━━━━━━━━━━\u001b[0m\u001b[37m━\u001b[0m \u001b[1m0s\u001b[0m 26ms/step - accuracy: 1.0000 - loss: 0.0433\n",
            "Epoch 15: val_accuracy did not improve from 0.91414\n",
            "\u001b[1m50/50\u001b[0m \u001b[32m━━━━━━━━━━━━━━━━━━━━\u001b[0m\u001b[37m\u001b[0m \u001b[1m2s\u001b[0m 32ms/step - accuracy: 1.0000 - loss: 0.0431 - val_accuracy: 0.8939 - val_loss: 0.4277\n",
            "Epoch 16/50\n",
            "\u001b[1m49/50\u001b[0m \u001b[32m━━━━━━━━━━━━━━━━━━━\u001b[0m\u001b[37m━\u001b[0m \u001b[1m0s\u001b[0m 26ms/step - accuracy: 1.0000 - loss: 0.0335\n",
            "Epoch 16: val_accuracy did not improve from 0.91414\n",
            "\u001b[1m50/50\u001b[0m \u001b[32m━━━━━━━━━━━━━━━━━━━━\u001b[0m\u001b[37m\u001b[0m \u001b[1m2s\u001b[0m 34ms/step - accuracy: 1.0000 - loss: 0.0335 - val_accuracy: 0.9040 - val_loss: 0.3312\n",
            "Epoch 17/50\n",
            "\u001b[1m48/50\u001b[0m \u001b[32m━━━━━━━━━━━━━━━━━━━\u001b[0m\u001b[37m━\u001b[0m \u001b[1m0s\u001b[0m 26ms/step - accuracy: 1.0000 - loss: 0.0245\n",
            "Epoch 17: val_accuracy did not improve from 0.91414\n",
            "\u001b[1m50/50\u001b[0m \u001b[32m━━━━━━━━━━━━━━━━━━━━\u001b[0m\u001b[37m\u001b[0m \u001b[1m2s\u001b[0m 34ms/step - accuracy: 1.0000 - loss: 0.0245 - val_accuracy: 0.9141 - val_loss: 0.3051\n",
            "Epoch 18/50\n",
            "\u001b[1m46/50\u001b[0m \u001b[32m━━━━━━━━━━━━━━━━━━\u001b[0m\u001b[37m━━\u001b[0m \u001b[1m0s\u001b[0m 27ms/step - accuracy: 1.0000 - loss: 0.0221\n",
            "Epoch 18: val_accuracy improved from 0.91414 to 0.93939, saving model to best_model_vgg16.keras\n",
            "\u001b[1m50/50\u001b[0m \u001b[32m━━━━━━━━━━━━━━━━━━━━\u001b[0m\u001b[37m\u001b[0m \u001b[1m2s\u001b[0m 42ms/step - accuracy: 1.0000 - loss: 0.0220 - val_accuracy: 0.9394 - val_loss: 0.2774\n",
            "Epoch 19/50\n",
            "\u001b[1m46/50\u001b[0m \u001b[32m━━━━━━━━━━━━━━━━━━\u001b[0m\u001b[37m━━\u001b[0m \u001b[1m0s\u001b[0m 27ms/step - accuracy: 0.9982 - loss: 0.0204\n",
            "Epoch 19: val_accuracy did not improve from 0.93939\n",
            "\u001b[1m50/50\u001b[0m \u001b[32m━━━━━━━━━━━━━━━━━━━━\u001b[0m\u001b[37m\u001b[0m \u001b[1m2s\u001b[0m 33ms/step - accuracy: 0.9978 - loss: 0.0216 - val_accuracy: 0.9141 - val_loss: 0.3188\n",
            "Epoch 20/50\n",
            "\u001b[1m50/50\u001b[0m \u001b[32m━━━━━━━━━━━━━━━━━━━━\u001b[0m\u001b[37m\u001b[0m \u001b[1m0s\u001b[0m 25ms/step - accuracy: 1.0000 - loss: 0.0220\n",
            "Epoch 20: val_accuracy did not improve from 0.93939\n",
            "\u001b[1m50/50\u001b[0m \u001b[32m━━━━━━━━━━━━━━━━━━━━\u001b[0m\u001b[37m\u001b[0m \u001b[1m2s\u001b[0m 32ms/step - accuracy: 1.0000 - loss: 0.0220 - val_accuracy: 0.9242 - val_loss: 0.2885\n",
            "Epoch 21/50\n",
            "\u001b[1m46/50\u001b[0m \u001b[32m━━━━━━━━━━━━━━━━━━\u001b[0m\u001b[37m━━\u001b[0m \u001b[1m0s\u001b[0m 26ms/step - accuracy: 0.9993 - loss: 0.0191\n",
            "Epoch 21: val_accuracy did not improve from 0.93939\n",
            "\u001b[1m50/50\u001b[0m \u001b[32m━━━━━━━━━━━━━━━━━━━━\u001b[0m\u001b[37m\u001b[0m \u001b[1m2s\u001b[0m 32ms/step - accuracy: 0.9991 - loss: 0.0198 - val_accuracy: 0.9192 - val_loss: 0.3101\n",
            "Epoch 22/50\n",
            "\u001b[1m48/50\u001b[0m \u001b[32m━━━━━━━━━━━━━━━━━━━\u001b[0m\u001b[37m━\u001b[0m \u001b[1m0s\u001b[0m 26ms/step - accuracy: 1.0000 - loss: 0.0255\n",
            "Epoch 22: val_accuracy did not improve from 0.93939\n",
            "\u001b[1m50/50\u001b[0m \u001b[32m━━━━━━━━━━━━━━━━━━━━\u001b[0m\u001b[37m\u001b[0m \u001b[1m2s\u001b[0m 33ms/step - accuracy: 1.0000 - loss: 0.0254 - val_accuracy: 0.9192 - val_loss: 0.2870\n",
            "Epoch 23/50\n",
            "\u001b[1m50/50\u001b[0m \u001b[32m━━━━━━━━━━━━━━━━━━━━\u001b[0m\u001b[37m\u001b[0m \u001b[1m0s\u001b[0m 26ms/step - accuracy: 1.0000 - loss: 0.0183\n",
            "Epoch 23: val_accuracy did not improve from 0.93939\n",
            "\u001b[1m50/50\u001b[0m \u001b[32m━━━━━━━━━━━━━━━━━━━━\u001b[0m\u001b[37m\u001b[0m \u001b[1m2s\u001b[0m 33ms/step - accuracy: 1.0000 - loss: 0.0182 - val_accuracy: 0.9141 - val_loss: 0.3359\n",
            "Epoch 1/50\n",
            "\u001b[1m49/50\u001b[0m \u001b[32m━━━━━━━━━━━━━━━━━━━\u001b[0m\u001b[37m━\u001b[0m \u001b[1m0s\u001b[0m 55ms/step - accuracy: 1.0000 - loss: 0.0141\n",
            "Epoch 1: val_accuracy did not improve from 0.93939\n",
            "\u001b[1m50/50\u001b[0m \u001b[32m━━━━━━━━━━━━━━━━━━━━\u001b[0m\u001b[37m\u001b[0m \u001b[1m7s\u001b[0m 90ms/step - accuracy: 1.0000 - loss: 0.0141 - val_accuracy: 0.9394 - val_loss: 0.2632\n",
            "Epoch 2/50\n",
            "\u001b[1m50/50\u001b[0m \u001b[32m━━━━━━━━━━━━━━━━━━━━\u001b[0m\u001b[37m\u001b[0m \u001b[1m0s\u001b[0m 25ms/step - accuracy: 0.9989 - loss: 0.0184\n",
            "Epoch 2: val_accuracy did not improve from 0.93939\n",
            "\u001b[1m50/50\u001b[0m \u001b[32m━━━━━━━━━━━━━━━━━━━━\u001b[0m\u001b[37m\u001b[0m \u001b[1m2s\u001b[0m 33ms/step - accuracy: 0.9989 - loss: 0.0184 - val_accuracy: 0.9394 - val_loss: 0.2552\n",
            "Epoch 3/50\n",
            "\u001b[1m48/50\u001b[0m \u001b[32m━━━━━━━━━━━━━━━━━━━\u001b[0m\u001b[37m━\u001b[0m \u001b[1m0s\u001b[0m 26ms/step - accuracy: 1.0000 - loss: 0.0167\n",
            "Epoch 3: val_accuracy did not improve from 0.93939\n",
            "\u001b[1m50/50\u001b[0m \u001b[32m━━━━━━━━━━━━━━━━━━━━\u001b[0m\u001b[37m\u001b[0m \u001b[1m2s\u001b[0m 33ms/step - accuracy: 1.0000 - loss: 0.0166 - val_accuracy: 0.9242 - val_loss: 0.2568\n",
            "Epoch 4/50\n",
            "\u001b[1m48/50\u001b[0m \u001b[32m━━━━━━━━━━━━━━━━━━━\u001b[0m\u001b[37m━\u001b[0m \u001b[1m0s\u001b[0m 27ms/step - accuracy: 1.0000 - loss: 0.0170\n",
            "Epoch 4: val_accuracy did not improve from 0.93939\n",
            "\u001b[1m50/50\u001b[0m \u001b[32m━━━━━━━━━━━━━━━━━━━━\u001b[0m\u001b[37m\u001b[0m \u001b[1m2s\u001b[0m 34ms/step - accuracy: 1.0000 - loss: 0.0170 - val_accuracy: 0.9141 - val_loss: 0.2605\n",
            "Epoch 5/50\n",
            "\u001b[1m50/50\u001b[0m \u001b[32m━━━━━━━━━━━━━━━━━━━━\u001b[0m\u001b[37m\u001b[0m \u001b[1m0s\u001b[0m 25ms/step - accuracy: 1.0000 - loss: 0.0158\n",
            "Epoch 5: val_accuracy did not improve from 0.93939\n",
            "\u001b[1m50/50\u001b[0m \u001b[32m━━━━━━━━━━━━━━━━━━━━\u001b[0m\u001b[37m\u001b[0m \u001b[1m2s\u001b[0m 33ms/step - accuracy: 1.0000 - loss: 0.0158 - val_accuracy: 0.9192 - val_loss: 0.2545\n",
            "Epoch 6/50\n",
            "\u001b[1m48/50\u001b[0m \u001b[32m━━━━━━━━━━━━━━━━━━━\u001b[0m\u001b[37m━\u001b[0m \u001b[1m0s\u001b[0m 26ms/step - accuracy: 1.0000 - loss: 0.0154\n",
            "Epoch 6: val_accuracy did not improve from 0.93939\n",
            "\u001b[1m50/50\u001b[0m \u001b[32m━━━━━━━━━━━━━━━━━━━━\u001b[0m\u001b[37m\u001b[0m \u001b[1m2s\u001b[0m 32ms/step - accuracy: 1.0000 - loss: 0.0154 - val_accuracy: 0.9192 - val_loss: 0.2592\n",
            "Epoch 7/50\n",
            "\u001b[1m50/50\u001b[0m \u001b[32m━━━━━━━━━━━━━━━━━━━━\u001b[0m\u001b[37m\u001b[0m \u001b[1m0s\u001b[0m 25ms/step - accuracy: 1.0000 - loss: 0.0133\n",
            "Epoch 7: val_accuracy did not improve from 0.93939\n",
            "\u001b[1m50/50\u001b[0m \u001b[32m━━━━━━━━━━━━━━━━━━━━\u001b[0m\u001b[37m\u001b[0m \u001b[1m2s\u001b[0m 33ms/step - accuracy: 1.0000 - loss: 0.0134 - val_accuracy: 0.9293 - val_loss: 0.2542\n",
            "Epoch 8/50\n",
            "\u001b[1m46/50\u001b[0m \u001b[32m━━━━━━━━━━━━━━━━━━\u001b[0m\u001b[37m━━\u001b[0m \u001b[1m0s\u001b[0m 27ms/step - accuracy: 1.0000 - loss: 0.0129\n",
            "Epoch 8: val_accuracy did not improve from 0.93939\n",
            "\u001b[1m50/50\u001b[0m \u001b[32m━━━━━━━━━━━━━━━━━━━━\u001b[0m\u001b[37m\u001b[0m \u001b[1m2s\u001b[0m 33ms/step - accuracy: 1.0000 - loss: 0.0129 - val_accuracy: 0.9343 - val_loss: 0.2565\n",
            "Epoch 9/50\n",
            "\u001b[1m50/50\u001b[0m \u001b[32m━━━━━━━━━━━━━━━━━━━━\u001b[0m\u001b[37m\u001b[0m \u001b[1m0s\u001b[0m 25ms/step - accuracy: 1.0000 - loss: 0.0162\n",
            "Epoch 9: val_accuracy did not improve from 0.93939\n",
            "\u001b[1m50/50\u001b[0m \u001b[32m━━━━━━━━━━━━━━━━━━━━\u001b[0m\u001b[37m\u001b[0m \u001b[1m2s\u001b[0m 33ms/step - accuracy: 1.0000 - loss: 0.0162 - val_accuracy: 0.9293 - val_loss: 0.2468\n",
            "Epoch 10/50\n",
            "\u001b[1m50/50\u001b[0m \u001b[32m━━━━━━━━━━━━━━━━━━━━\u001b[0m\u001b[37m\u001b[0m \u001b[1m0s\u001b[0m 26ms/step - accuracy: 1.0000 - loss: 0.0136\n",
            "Epoch 10: val_accuracy did not improve from 0.93939\n",
            "\u001b[1m50/50\u001b[0m \u001b[32m━━━━━━━━━━━━━━━━━━━━\u001b[0m\u001b[37m\u001b[0m \u001b[1m2s\u001b[0m 33ms/step - accuracy: 1.0000 - loss: 0.0136 - val_accuracy: 0.9192 - val_loss: 0.2506\n",
            "Epoch 11/50\n",
            "\u001b[1m46/50\u001b[0m \u001b[32m━━━━━━━━━━━━━━━━━━\u001b[0m\u001b[37m━━\u001b[0m \u001b[1m0s\u001b[0m 27ms/step - accuracy: 1.0000 - loss: 0.0140\n",
            "Epoch 11: val_accuracy did not improve from 0.93939\n",
            "\u001b[1m50/50\u001b[0m \u001b[32m━━━━━━━━━━━━━━━━━━━━\u001b[0m\u001b[37m\u001b[0m \u001b[1m2s\u001b[0m 34ms/step - accuracy: 1.0000 - loss: 0.0138 - val_accuracy: 0.9293 - val_loss: 0.2283\n",
            "Epoch 12/50\n",
            "\u001b[1m48/50\u001b[0m \u001b[32m━━━━━━━━━━━━━━━━━━━\u001b[0m\u001b[37m━\u001b[0m \u001b[1m0s\u001b[0m 27ms/step - accuracy: 1.0000 - loss: 0.0137\n",
            "Epoch 12: val_accuracy did not improve from 0.93939\n",
            "\u001b[1m50/50\u001b[0m \u001b[32m━━━━━━━━━━━━━━━━━━━━\u001b[0m\u001b[37m\u001b[0m \u001b[1m2s\u001b[0m 34ms/step - accuracy: 1.0000 - loss: 0.0136 - val_accuracy: 0.9293 - val_loss: 0.2404\n",
            "Epoch 13/50\n",
            "\u001b[1m46/50\u001b[0m \u001b[32m━━━━━━━━━━━━━━━━━━\u001b[0m\u001b[37m━━\u001b[0m \u001b[1m0s\u001b[0m 26ms/step - accuracy: 1.0000 - loss: 0.0122\n",
            "Epoch 13: val_accuracy did not improve from 0.93939\n",
            "\u001b[1m50/50\u001b[0m \u001b[32m━━━━━━━━━━━━━━━━━━━━\u001b[0m\u001b[37m\u001b[0m \u001b[1m2s\u001b[0m 32ms/step - accuracy: 1.0000 - loss: 0.0122 - val_accuracy: 0.9293 - val_loss: 0.2392\n",
            "Epoch 14/50\n",
            "\u001b[1m48/50\u001b[0m \u001b[32m━━━━━━━━━━━━━━━━━━━\u001b[0m\u001b[37m━\u001b[0m \u001b[1m0s\u001b[0m 26ms/step - accuracy: 1.0000 - loss: 0.0133\n",
            "Epoch 14: val_accuracy did not improve from 0.93939\n",
            "\u001b[1m50/50\u001b[0m \u001b[32m━━━━━━━━━━━━━━━━━━━━\u001b[0m\u001b[37m\u001b[0m \u001b[1m2s\u001b[0m 33ms/step - accuracy: 1.0000 - loss: 0.0133 - val_accuracy: 0.9192 - val_loss: 0.2553\n",
            "Epoch 15/50\n",
            "\u001b[1m46/50\u001b[0m \u001b[32m━━━━━━━━━━━━━━━━━━\u001b[0m\u001b[37m━━\u001b[0m \u001b[1m0s\u001b[0m 26ms/step - accuracy: 1.0000 - loss: 0.0131\n",
            "Epoch 15: val_accuracy did not improve from 0.93939\n",
            "\u001b[1m50/50\u001b[0m \u001b[32m━━━━━━━━━━━━━━━━━━━━\u001b[0m\u001b[37m\u001b[0m \u001b[1m2s\u001b[0m 33ms/step - accuracy: 1.0000 - loss: 0.0130 - val_accuracy: 0.9394 - val_loss: 0.2471\n",
            "Epoch 16/50\n",
            "\u001b[1m48/50\u001b[0m \u001b[32m━━━━━━━━━━━━━━━━━━━\u001b[0m\u001b[37m━\u001b[0m \u001b[1m0s\u001b[0m 27ms/step - accuracy: 1.0000 - loss: 0.0121\n",
            "Epoch 16: val_accuracy did not improve from 0.93939\n",
            "\u001b[1m50/50\u001b[0m \u001b[32m━━━━━━━━━━━━━━━━━━━━\u001b[0m\u001b[37m\u001b[0m \u001b[1m2s\u001b[0m 33ms/step - accuracy: 1.0000 - loss: 0.0121 - val_accuracy: 0.9242 - val_loss: 0.2448\n"
          ]
        }
      ]
    },
    {
      "cell_type": "code",
      "source": [
        "model.summary()"
      ],
      "metadata": {
        "colab": {
          "base_uri": "https://localhost:8080/",
          "height": 353
        },
        "id": "JIrBMRIIQAkB",
        "outputId": "221ff9b0-c8bc-4887-8056-67eb9fd58674"
      },
      "execution_count": 13,
      "outputs": [
        {
          "output_type": "display_data",
          "data": {
            "text/plain": [
              "\u001b[1mModel: \"sequential\"\u001b[0m\n"
            ],
            "text/html": [
              "<pre style=\"white-space:pre;overflow-x:auto;line-height:normal;font-family:Menlo,'DejaVu Sans Mono',consolas,'Courier New',monospace\"><span style=\"font-weight: bold\">Model: \"sequential\"</span>\n",
              "</pre>\n"
            ]
          },
          "metadata": {}
        },
        {
          "output_type": "display_data",
          "data": {
            "text/plain": [
              "┏━━━━━━━━━━━━━━━━━━━━━━━━━━━━━━━━━━━━━━┳━━━━━━━━━━━━━━━━━━━━━━━━━━━━━┳━━━━━━━━━━━━━━━━━┓\n",
              "┃\u001b[1m \u001b[0m\u001b[1mLayer (type)                        \u001b[0m\u001b[1m \u001b[0m┃\u001b[1m \u001b[0m\u001b[1mOutput Shape               \u001b[0m\u001b[1m \u001b[0m┃\u001b[1m \u001b[0m\u001b[1m        Param #\u001b[0m\u001b[1m \u001b[0m┃\n",
              "┡━━━━━━━━━━━━━━━━━━━━━━━━━━━━━━━━━━━━━━╇━━━━━━━━━━━━━━━━━━━━━━━━━━━━━╇━━━━━━━━━━━━━━━━━┩\n",
              "│ vgg16 (\u001b[38;5;33mFunctional\u001b[0m)                   │ (\u001b[38;5;45mNone\u001b[0m, \u001b[38;5;34m4\u001b[0m, \u001b[38;5;34m4\u001b[0m, \u001b[38;5;34m512\u001b[0m)           │      \u001b[38;5;34m14,714,688\u001b[0m │\n",
              "├──────────────────────────────────────┼─────────────────────────────┼─────────────────┤\n",
              "│ flatten (\u001b[38;5;33mFlatten\u001b[0m)                    │ (\u001b[38;5;45mNone\u001b[0m, \u001b[38;5;34m8192\u001b[0m)                │               \u001b[38;5;34m0\u001b[0m │\n",
              "├──────────────────────────────────────┼─────────────────────────────┼─────────────────┤\n",
              "│ dense (\u001b[38;5;33mDense\u001b[0m)                        │ (\u001b[38;5;45mNone\u001b[0m, \u001b[38;5;34m256\u001b[0m)                 │       \u001b[38;5;34m2,097,408\u001b[0m │\n",
              "├──────────────────────────────────────┼─────────────────────────────┼─────────────────┤\n",
              "│ batch_normalization                  │ (\u001b[38;5;45mNone\u001b[0m, \u001b[38;5;34m256\u001b[0m)                 │           \u001b[38;5;34m1,024\u001b[0m │\n",
              "│ (\u001b[38;5;33mBatchNormalization\u001b[0m)                 │                             │                 │\n",
              "├──────────────────────────────────────┼─────────────────────────────┼─────────────────┤\n",
              "│ dropout (\u001b[38;5;33mDropout\u001b[0m)                    │ (\u001b[38;5;45mNone\u001b[0m, \u001b[38;5;34m256\u001b[0m)                 │               \u001b[38;5;34m0\u001b[0m │\n",
              "├──────────────────────────────────────┼─────────────────────────────┼─────────────────┤\n",
              "│ dense_1 (\u001b[38;5;33mDense\u001b[0m)                      │ (\u001b[38;5;45mNone\u001b[0m, \u001b[38;5;34m99\u001b[0m)                  │          \u001b[38;5;34m25,443\u001b[0m │\n",
              "└──────────────────────────────────────┴─────────────────────────────┴─────────────────┘\n"
            ],
            "text/html": [
              "<pre style=\"white-space:pre;overflow-x:auto;line-height:normal;font-family:Menlo,'DejaVu Sans Mono',consolas,'Courier New',monospace\">┏━━━━━━━━━━━━━━━━━━━━━━━━━━━━━━━━━━━━━━┳━━━━━━━━━━━━━━━━━━━━━━━━━━━━━┳━━━━━━━━━━━━━━━━━┓\n",
              "┃<span style=\"font-weight: bold\"> Layer (type)                         </span>┃<span style=\"font-weight: bold\"> Output Shape                </span>┃<span style=\"font-weight: bold\">         Param # </span>┃\n",
              "┡━━━━━━━━━━━━━━━━━━━━━━━━━━━━━━━━━━━━━━╇━━━━━━━━━━━━━━━━━━━━━━━━━━━━━╇━━━━━━━━━━━━━━━━━┩\n",
              "│ vgg16 (<span style=\"color: #0087ff; text-decoration-color: #0087ff\">Functional</span>)                   │ (<span style=\"color: #00d7ff; text-decoration-color: #00d7ff\">None</span>, <span style=\"color: #00af00; text-decoration-color: #00af00\">4</span>, <span style=\"color: #00af00; text-decoration-color: #00af00\">4</span>, <span style=\"color: #00af00; text-decoration-color: #00af00\">512</span>)           │      <span style=\"color: #00af00; text-decoration-color: #00af00\">14,714,688</span> │\n",
              "├──────────────────────────────────────┼─────────────────────────────┼─────────────────┤\n",
              "│ flatten (<span style=\"color: #0087ff; text-decoration-color: #0087ff\">Flatten</span>)                    │ (<span style=\"color: #00d7ff; text-decoration-color: #00d7ff\">None</span>, <span style=\"color: #00af00; text-decoration-color: #00af00\">8192</span>)                │               <span style=\"color: #00af00; text-decoration-color: #00af00\">0</span> │\n",
              "├──────────────────────────────────────┼─────────────────────────────┼─────────────────┤\n",
              "│ dense (<span style=\"color: #0087ff; text-decoration-color: #0087ff\">Dense</span>)                        │ (<span style=\"color: #00d7ff; text-decoration-color: #00d7ff\">None</span>, <span style=\"color: #00af00; text-decoration-color: #00af00\">256</span>)                 │       <span style=\"color: #00af00; text-decoration-color: #00af00\">2,097,408</span> │\n",
              "├──────────────────────────────────────┼─────────────────────────────┼─────────────────┤\n",
              "│ batch_normalization                  │ (<span style=\"color: #00d7ff; text-decoration-color: #00d7ff\">None</span>, <span style=\"color: #00af00; text-decoration-color: #00af00\">256</span>)                 │           <span style=\"color: #00af00; text-decoration-color: #00af00\">1,024</span> │\n",
              "│ (<span style=\"color: #0087ff; text-decoration-color: #0087ff\">BatchNormalization</span>)                 │                             │                 │\n",
              "├──────────────────────────────────────┼─────────────────────────────┼─────────────────┤\n",
              "│ dropout (<span style=\"color: #0087ff; text-decoration-color: #0087ff\">Dropout</span>)                    │ (<span style=\"color: #00d7ff; text-decoration-color: #00d7ff\">None</span>, <span style=\"color: #00af00; text-decoration-color: #00af00\">256</span>)                 │               <span style=\"color: #00af00; text-decoration-color: #00af00\">0</span> │\n",
              "├──────────────────────────────────────┼─────────────────────────────┼─────────────────┤\n",
              "│ dense_1 (<span style=\"color: #0087ff; text-decoration-color: #0087ff\">Dense</span>)                      │ (<span style=\"color: #00d7ff; text-decoration-color: #00d7ff\">None</span>, <span style=\"color: #00af00; text-decoration-color: #00af00\">99</span>)                  │          <span style=\"color: #00af00; text-decoration-color: #00af00\">25,443</span> │\n",
              "└──────────────────────────────────────┴─────────────────────────────┴─────────────────┘\n",
              "</pre>\n"
            ]
          },
          "metadata": {}
        },
        {
          "output_type": "display_data",
          "data": {
            "text/plain": [
              "\u001b[1m Total params: \u001b[0m\u001b[38;5;34m16,838,565\u001b[0m (64.23 MB)\n"
            ],
            "text/html": [
              "<pre style=\"white-space:pre;overflow-x:auto;line-height:normal;font-family:Menlo,'DejaVu Sans Mono',consolas,'Courier New',monospace\"><span style=\"font-weight: bold\"> Total params: </span><span style=\"color: #00af00; text-decoration-color: #00af00\">16,838,565</span> (64.23 MB)\n",
              "</pre>\n"
            ]
          },
          "metadata": {}
        },
        {
          "output_type": "display_data",
          "data": {
            "text/plain": [
              "\u001b[1m Trainable params: \u001b[0m\u001b[38;5;34m2,123,363\u001b[0m (8.10 MB)\n"
            ],
            "text/html": [
              "<pre style=\"white-space:pre;overflow-x:auto;line-height:normal;font-family:Menlo,'DejaVu Sans Mono',consolas,'Courier New',monospace\"><span style=\"font-weight: bold\"> Trainable params: </span><span style=\"color: #00af00; text-decoration-color: #00af00\">2,123,363</span> (8.10 MB)\n",
              "</pre>\n"
            ]
          },
          "metadata": {}
        },
        {
          "output_type": "display_data",
          "data": {
            "text/plain": [
              "\u001b[1m Non-trainable params: \u001b[0m\u001b[38;5;34m14,715,200\u001b[0m (56.13 MB)\n"
            ],
            "text/html": [
              "<pre style=\"white-space:pre;overflow-x:auto;line-height:normal;font-family:Menlo,'DejaVu Sans Mono',consolas,'Courier New',monospace\"><span style=\"font-weight: bold\"> Non-trainable params: </span><span style=\"color: #00af00; text-decoration-color: #00af00\">14,715,200</span> (56.13 MB)\n",
              "</pre>\n"
            ]
          },
          "metadata": {}
        },
        {
          "output_type": "display_data",
          "data": {
            "text/plain": [
              "\u001b[1m Optimizer params: \u001b[0m\u001b[38;5;34m2\u001b[0m (12.00 B)\n"
            ],
            "text/html": [
              "<pre style=\"white-space:pre;overflow-x:auto;line-height:normal;font-family:Menlo,'DejaVu Sans Mono',consolas,'Courier New',monospace\"><span style=\"font-weight: bold\"> Optimizer params: </span><span style=\"color: #00af00; text-decoration-color: #00af00\">2</span> (12.00 B)\n",
              "</pre>\n"
            ]
          },
          "metadata": {}
        }
      ]
    },
    {
      "cell_type": "markdown",
      "source": [
        "The function below creates graphs of validation accuracy and validation log loss as training progresses. As you can see, the adam optimizer is achieving fast training with larger weight adjustments and SDG is fine tuning the model."
      ],
      "metadata": {
        "id": "6nkyy9C7DYEY"
      }
    },
    {
      "cell_type": "code",
      "source": [
        "import matplotlib.pyplot as plt\n",
        "\n",
        "#Define a function to plot validation accuracy and loss metrics over the training period\n",
        "def plot_metrics(history_adam, history_sgd):\n",
        "    # Extract metrics from the history objects\n",
        "    loss_adam = history_adam.history['loss']\n",
        "    val_loss_adam = history_adam.history['val_loss']\n",
        "    accuracy_adam = history_adam.history['accuracy']\n",
        "    val_accuracy_adam = history_adam.history['val_accuracy']\n",
        "\n",
        "    loss_sgd = history_sgd.history['loss']\n",
        "    val_loss_sgd = history_sgd.history['val_loss']\n",
        "    accuracy_sgd = history_sgd.history['accuracy']\n",
        "    val_accuracy_sgd = history_sgd.history['val_accuracy']\n",
        "\n",
        "    # Calculate the number of epochs\n",
        "    epochs_adam = range(1, len(loss_adam) + 1)\n",
        "    epochs_sgd = range(1, len(loss_sgd) + 1)\n",
        "\n",
        "    # Create a figure for loss metrics\n",
        "    plt.figure(figsize=(12, 6))\n",
        "\n",
        "    # Plot training and validation loss\n",
        "    plt.subplot(1, 2, 1)\n",
        "    plt.plot(epochs_adam, loss_adam, label='Training Loss (Adam)', color='blue')\n",
        "    plt.plot(epochs_adam, val_loss_adam, label='Validation Loss (Adam)', color='orange')\n",
        "    plt.plot(epochs_sgd, loss_sgd, label='Training Loss (SGD)', color='green')\n",
        "    plt.plot(epochs_sgd, val_loss_sgd, label='Validation Loss (SGD)', color='red')\n",
        "    plt.title('Training and Validation Loss')\n",
        "    plt.xlabel('Epochs')\n",
        "    plt.ylabel('Loss')\n",
        "    plt.legend()\n",
        "\n",
        "    # Create a figure for accuracy metrics\n",
        "    plt.subplot(1, 2, 2)\n",
        "    plt.plot(epochs_adam, accuracy_adam, label='Training Accuracy (Adam)', color='blue')\n",
        "    plt.plot(epochs_adam, val_accuracy_adam, label='Validation Accuracy (Adam)', color='orange')\n",
        "    plt.plot(epochs_sgd, accuracy_sgd, label='Training Accuracy (SGD)', color='green')\n",
        "    plt.plot(epochs_sgd, val_accuracy_sgd, label='Validation Accuracy (SGD)', color='red')\n",
        "    plt.title('Training and Validation Accuracy')\n",
        "    plt.xlabel('Epochs')\n",
        "    plt.ylabel('Accuracy')\n",
        "    plt.legend()\n",
        "\n",
        "    plt.tight_layout()  # Adjust layout for better spacing\n",
        "    plt.show()\n",
        "\n",
        "# Call the plotting function with your history objects\n",
        "plot_metrics(history_adam, history_sgd)\n",
        "\n"
      ],
      "metadata": {
        "colab": {
          "base_uri": "https://localhost:8080/",
          "height": 607
        },
        "id": "qjYSxHsi7Grz",
        "outputId": "7435016a-7ec0-4bf0-8f96-c32a6faeb620"
      },
      "execution_count": 14,
      "outputs": [
        {
          "output_type": "display_data",
          "data": {
            "text/plain": [
              "<Figure size 1200x600 with 2 Axes>"
            ],
            "image/png": "[encoded data removed]"
          },
          "metadata": {}
        }
      ]
    },
    {
      "cell_type": "markdown",
      "source": [
        "The test data is loaded and the .jpg string is added to the csv's image IDs similar to the training data."
      ],
      "metadata": {
        "id": "UqBgSVE4DtfB"
      }
    },
    {
      "cell_type": "code",
      "source": [
        "\n",
        "# Load the test CSV\n",
        "test = pd.read_csv(\"/content/leaf_data/test.csv\")\n",
        "\n",
        "# Add the image extension to the id column - this is to match the image filename and the id name in the csv file\n",
        "test['id'] = test['id'].astype(str) + '.jpg'\n",
        "\n",
        "# Display the first few rows to verify the changes\n",
        "print(test.head())\n",
        "\n"
      ],
      "metadata": {
        "colab": {
          "base_uri": "https://localhost:8080/"
        },
        "id": "hl1Cab2EC-Y7",
        "outputId": "83dfaaba-fb5e-4a10-f8c5-1b566c3a2628"
      },
      "execution_count": 15,
      "outputs": [
        {
          "output_type": "stream",
          "name": "stdout",
          "text": [
            "       id   margin1   margin2   margin3   margin4   margin5   margin6  \\\n",
            "0   4.jpg  0.019531  0.009766  0.078125  0.011719  0.003906  0.015625   \n",
            "1   7.jpg  0.007812  0.005859  0.064453  0.009766  0.003906  0.013672   \n",
            "2   9.jpg  0.000000  0.000000  0.001953  0.021484  0.041016  0.000000   \n",
            "3  12.jpg  0.000000  0.000000  0.009766  0.011719  0.017578  0.000000   \n",
            "4  13.jpg  0.001953  0.000000  0.015625  0.009766  0.039062  0.000000   \n",
            "\n",
            "    margin7  margin8   margin9  ...  texture55  texture56  texture57  \\\n",
            "0  0.005859      0.0  0.005859  ...   0.006836   0.000000   0.015625   \n",
            "1  0.007812      0.0  0.033203  ...   0.000000   0.000000   0.006836   \n",
            "2  0.023438      0.0  0.011719  ...   0.128910   0.000000   0.000977   \n",
            "3  0.003906      0.0  0.003906  ...   0.012695   0.015625   0.002930   \n",
            "4  0.009766      0.0  0.005859  ...   0.000000   0.042969   0.016602   \n",
            "\n",
            "   texture58  texture59  texture60  texture61  texture62  texture63  texture64  \n",
            "0   0.000977   0.015625        0.0        0.0   0.000000   0.003906   0.053711  \n",
            "1   0.001953   0.013672        0.0        0.0   0.000977   0.037109   0.044922  \n",
            "2   0.000000   0.000000        0.0        0.0   0.015625   0.000000   0.000000  \n",
            "3   0.036133   0.013672        0.0        0.0   0.089844   0.000000   0.008789  \n",
            "4   0.010742   0.041016        0.0        0.0   0.007812   0.009766   0.007812  \n",
            "\n",
            "[5 rows x 193 columns]\n"
          ]
        }
      ]
    },
    {
      "cell_type": "markdown",
      "source": [
        "Test datagen is defined; only rescaling the pixels.\n",
        "\n",
        "The test generator is defined in a similar way to the training data with some minor differences. First, there is no labels as this is the testing set. Batch size is always 1 for testing data, and we are not shuffling the data for predictions.\n",
        "\n",
        "The testing data is predicted by the model and softmax probabilities for each class are saved to a dataframe. The original class names are added back to the column names and the .jpg string is removed from the image IDs. The dataframe is saved in a csv file and extracted for submission."
      ],
      "metadata": {
        "id": "zq21X88aD0zo"
      }
    },
    {
      "cell_type": "code",
      "source": [
        "\n",
        "\n",
        "# Define the ImageDataGenerator for the test data (without augmentation)\n",
        "test_datagen = ImageDataGenerator(rescale=1.0/255.0)\n",
        "\n",
        "# Create a test generator\n",
        "test_generator = test_datagen.flow_from_dataframe(\n",
        "    dataframe=test,\n",
        "    directory=image_dir,  # Directory where test images are located\n",
        "    x_col='id',\n",
        "    y_col=None,  # No labels for test data\n",
        "    target_size=(128, 128),\n",
        "    batch_size=1, #batch size of 1 for predictions\n",
        "    class_mode=None,  # No class mode for test data\n",
        "    shuffle=False,  # Keep the order of predictions\n",
        ")\n",
        "\n",
        "# Make predictions using the test generator\n",
        "softmax_probabilities = model.predict(test_generator)\n",
        "\n",
        "# Retrieve class labels from the training generator\n",
        "class_labels = list(train_generator.class_indices.keys())\n",
        "\n",
        "# Convert predictions to a DataFrame\n",
        "probs_df = pd.DataFrame(softmax_probabilities, columns=class_labels)\n",
        "\n",
        "# Add the 'id' column to the DataFrame, remove .jpg and convert id to an integer\n",
        "probs_df.insert(0, 'id', test['id'].str.replace('.jpg', '').astype(int))  # Remove '.jpg' and convert to int\n",
        "\n",
        "# Display the DataFrame to verify\n",
        "print(probs_df.head())\n",
        "\n",
        "\n"
      ],
      "metadata": {
        "colab": {
          "base_uri": "https://localhost:8080/"
        },
        "id": "vH73rCIEFISa",
        "outputId": "56c2f2c1-c465-4a91-bbf6-d45c8968fb46"
      },
      "execution_count": 16,
      "outputs": [
        {
          "output_type": "stream",
          "name": "stdout",
          "text": [
            "Found 594 validated image filenames.\n"
          ]
        },
        {
          "output_type": "stream",
          "name": "stderr",
          "text": [
            "/usr/local/lib/python3.10/dist-packages/keras/src/trainers/data_adapters/py_dataset_adapter.py:121: UserWarning: Your `PyDataset` class should call `super().__init__(**kwargs)` in its constructor. `**kwargs` can include `workers`, `use_multiprocessing`, `max_queue_size`. Do not pass these arguments to `fit()`, as they will be ignored.\n",
            "  self._warn_if_super_not_called()\n"
          ]
        },
        {
          "output_type": "stream",
          "name": "stdout",
          "text": [
            "\u001b[1m594/594\u001b[0m \u001b[32m━━━━━━━━━━━━━━━━━━━━\u001b[0m\u001b[37m\u001b[0m \u001b[1m3s\u001b[0m 3ms/step\n",
            "   id  Acer_Capillipes  Acer_Circinatum     Acer_Mono  Acer_Opalus  \\\n",
            "0   4     2.793498e-03     4.387741e-04  1.448409e-04     0.008717   \n",
            "1   7     8.256270e-04     3.370457e-05  1.177754e-04     0.000073   \n",
            "2   9     2.524017e-05     9.924085e-01  8.647246e-06     0.001986   \n",
            "3  12     2.506796e-07     6.159191e-07  2.054898e-07     0.000002   \n",
            "4  13     1.198276e-06     2.157303e-05  1.993374e-07     0.000003   \n",
            "\n",
            "   Acer_Palmatum   Acer_Pictum  Acer_Platanoids   Acer_Rubrum  Acer_Rufinerve  \\\n",
            "0       0.000167  1.781665e-03     6.087985e-04  6.513509e-04    9.607467e-04   \n",
            "1       0.000601  1.648311e-04     2.944830e-05  4.740666e-05    2.315167e-04   \n",
            "2       0.000084  2.865210e-05     7.615462e-05  5.271702e-05    7.240420e-06   \n",
            "3       0.000002  4.117358e-07     1.439288e-06  1.007012e-06    3.293390e-07   \n",
            "4       0.000003  7.914798e-07     7.951158e-07  3.937010e-07    3.254605e-07   \n",
            "\n",
            "   ...  Salix_Fragilis  Salix_Intergra  Sorbus_Aria  Tilia_Oliveri  \\\n",
            "0  ...        0.000528    2.678608e-04     0.000090   2.290787e-04   \n",
            "1  ...        0.000534    1.168202e-03     0.000183   2.087533e-04   \n",
            "2  ...        0.000003    4.263021e-06     0.000521   3.150751e-05   \n",
            "3  ...        0.000003    7.126565e-08     0.000001   2.243281e-07   \n",
            "4  ...        0.000009    3.407201e-07     0.000019   7.739947e-06   \n",
            "\n",
            "   Tilia_Platyphyllos  Tilia_Tomentosa  Ulmus_Bergmanniana  Viburnum_Tinus  \\\n",
            "0        4.261530e-03     7.531418e-04            0.000879        0.002382   \n",
            "1        2.802389e-05     9.318407e-06            0.000043        0.000007   \n",
            "2        6.651750e-05     9.593015e-06            0.000089        0.000002   \n",
            "3        1.186844e-07     4.120125e-06            0.000002        0.000005   \n",
            "4        2.145455e-07     4.700198e-07            0.000004        0.000005   \n",
            "\n",
            "   Viburnum_x_Rhytidophylloides  Zelkova_Serrata  \n",
            "0                  1.728211e-03     4.267809e-04  \n",
            "1                  1.970218e-04     1.663470e-04  \n",
            "2                  2.646308e-05     1.995344e-05  \n",
            "3                  3.743023e-07     4.613483e-07  \n",
            "4                  2.498257e-07     7.318051e-07  \n",
            "\n",
            "[5 rows x 100 columns]\n"
          ]
        }
      ]
    },
    {
      "cell_type": "code",
      "source": [
        "# Save to CSV for submission\n",
        "probs_df.to_csv('leaf_classification_CNN.csv', index=False)\n",
        "print(\"Submission file saved as 'leaf_classification_CNN.csv'\")\n",
        "\n",
        "# Download the submission file\n",
        "from google.colab import files\n",
        "files.download('leaf_classification_CNN.csv')"
      ],
      "metadata": {
        "colab": {
          "base_uri": "https://localhost:8080/",
          "height": 35
        },
        "id": "boC0NbagzZ49",
        "outputId": "3f8cb966-ffcf-41fd-b9b2-a1d161d6362c"
      },
      "execution_count": 17,
      "outputs": [
        {
          "output_type": "stream",
          "name": "stdout",
          "text": [
            "Submission file saved as 'leaf_classification_CNN.csv'\n"
          ]
        },
        {
          "output_type": "display_data",
          "data": {
            "text/plain": [
              "<IPython.core.display.Javascript object>"
            ],
            "application/javascript": [
              "\n",
              "    async function download(id, filename, size) {\n",
              "      if (!google.colab.kernel.accessAllowed) {\n",
              "        return;\n",
              "      }\n",
              "      const div = document.createElement('div');\n",
              "      const label = document.createElement('label');\n",
              "      label.textContent = `Downloading \"${filename}\": `;\n",
              "      div.appendChild(label);\n",
              "      const progress = document.createElement('progress');\n",
              "      progress.max = size;\n",
              "      div.appendChild(progress);\n",
              "      document.body.appendChild(div);\n",
              "\n",
              "      const buffers = [];\n",
              "      let downloaded = 0;\n",
              "\n",
              "      const channel = await google.colab.kernel.comms.open(id);\n",
              "      // Send a message to notify the kernel that we're ready.\n",
              "      channel.send({})\n",
              "\n",
              "      for await (const message of channel.messages) {\n",
              "        // Send a message to notify the kernel that we're ready.\n",
              "        channel.send({})\n",
              "        if (message.buffers) {\n",
              "          for (const buffer of message.buffers) {\n",
              "            buffers.push(buffer);\n",
              "            downloaded += buffer.byteLength;\n",
              "            progress.value = downloaded;\n",
              "          }\n",
              "        }\n",
              "      }\n",
              "      const blob = new Blob(buffers, {type: 'application/binary'});\n",
              "      const a = document.createElement('a');\n",
              "      a.href = window.URL.createObjectURL(blob);\n",
              "      a.download = filename;\n",
              "      div.appendChild(a);\n",
              "      a.click();\n",
              "      div.remove();\n",
              "    }\n",
              "  "
            ]
          },
          "metadata": {}
        },
        {
          "output_type": "display_data",
          "data": {
            "text/plain": [
              "<IPython.core.display.Javascript object>"
            ],
            "application/javascript": [
              "download(\"download_6f77acd2-f8c9-41ae-9d78-93b92e5f7eba\", \"leaf_classification_CNN.csv\", 798804)"
            ]
          },
          "metadata": {}
        }
      ]
    },
    {
      "cell_type": "code",
      "source": [],
      "metadata": {
        "id": "TJgED4XEz36B"
      },
      "execution_count": 17,
      "outputs": []
    }
  ]
}