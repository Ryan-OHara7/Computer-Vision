{
 "cells": [
  {
   "cell_type": "code",
   "execution_count": 1,
   "id": "7fcb4ee9-490d-49ca-9020-3bb42f99b880",
   "metadata": {},
   "outputs": [
    {
     "name": "stdout",
     "output_type": "stream",
     "text": [
      "Extraction complete!\n"
     ]
    }
   ],
   "source": [
    "import os\n",
    "import numpy as np\n",
    "import tensorflow as tf\n",
    "from tensorflow.keras.preprocessing.image import ImageDataGenerator\n",
    "import zipfile\n",
    "from tensorflow.keras.preprocessing.image import ImageDataGenerator\n",
    "from tensorflow.keras import layers, models\n",
    "from sklearn.metrics import confusion_matrix, precision_score, recall_score\n",
    "\n",
    "\n",
    "# Define the path to the zip files\n",
    "train_zip_path = r'C:\\Users\\Ryan\\OneDrive\\Documents\\Computer Vision\\CV Discussion3\\train.zip'\n",
    "test_zip_path = r'C:\\Users\\Ryan\\OneDrive\\Documents\\Computer Vision\\CV Discussion3\\test.zip'\n",
    "\n",
    "# Define the extraction directories\n",
    "train_dir = r'C:\\Users\\Ryan\\OneDrive\\Documents\\Computer Vision\\CV Discussion3\\train_data'\n",
    "\n",
    "# Extract the training zip file\n",
    "with zipfile.ZipFile(train_zip_path, 'r') as zip_ref:\n",
    "    zip_ref.extractall(train_dir)\n",
    "\n",
    "\n",
    "print(\"Extraction complete!\")"
   ]
  },
  {
   "cell_type": "code",
   "execution_count": 10,
   "id": "2ec45acf-5333-4db4-ab54-48fcefacb624",
   "metadata": {},
   "outputs": [
    {
     "name": "stdout",
     "output_type": "stream",
     "text": [
      "Number of file paths: 25000\n",
      "Number of labels: 25000\n",
      "DataFrame shape: (25000, 2)\n",
      "                                            filename  class\n",
      "0  C:\\Users\\Ryan\\OneDrive\\Documents\\Computer Visi...      0\n",
      "1  C:\\Users\\Ryan\\OneDrive\\Documents\\Computer Visi...      0\n",
      "2  C:\\Users\\Ryan\\OneDrive\\Documents\\Computer Visi...      0\n",
      "3  C:\\Users\\Ryan\\OneDrive\\Documents\\Computer Visi...      0\n",
      "4  C:\\Users\\Ryan\\OneDrive\\Documents\\Computer Visi...      0\n"
     ]
    }
   ],
   "source": [
    "\n",
    "\n",
    "# Define the correct extraction directory and subdirectory\n",
    "train_dir = r'C:\\Users\\Ryan\\OneDrive\\Documents\\Computer Vision\\CV Discussion3\\train_data\\train'\n",
    "\n",
    "# Initialize lists for file paths and labels\n",
    "file_paths = []\n",
    "labels = []\n",
    "\n",
    "# Iterate through the files in the subdirectory and label them\n",
    "for filename in os.listdir(train_dir):\n",
    "    if filename.lower().startswith('cat'):\n",
    "        labels.append(0)\n",
    "        file_paths.append(os.path.join(train_dir, filename))\n",
    "    elif filename.lower().startswith('dog'):\n",
    "        labels.append(1)\n",
    "        file_paths.append(os.path.join(train_dir, filename))\n",
    "\n",
    "# Check if file_paths and labels have been populated\n",
    "print(f\"Number of file paths: {len(file_paths)}\")\n",
    "print(f\"Number of labels: {len(labels)}\")\n",
    "\n",
    "# Create DataFrame if there are data\n",
    "if file_paths and labels:\n",
    "    df = pd.DataFrame({\n",
    "        'filename': file_paths,\n",
    "        'class': labels\n",
    "    })\n",
    "\n",
    "    print(f\"DataFrame shape: {df.shape}\")\n",
    "    print(df.head())\n",
    "else:\n",
    "    print(\"No images found or labels not assigned correctly.\")"
   ]
  },
  {
   "cell_type": "code",
   "execution_count": 11,
   "id": "eeadadaa-f221-4c96-9c40-7f99a2f5c4dd",
   "metadata": {},
   "outputs": [
    {
     "name": "stdout",
     "output_type": "stream",
     "text": [
      "                                            filename class\n",
      "0  C:\\Users\\Ryan\\OneDrive\\Documents\\Computer Visi...   cat\n",
      "1  C:\\Users\\Ryan\\OneDrive\\Documents\\Computer Visi...   cat\n",
      "2  C:\\Users\\Ryan\\OneDrive\\Documents\\Computer Visi...   cat\n",
      "3  C:\\Users\\Ryan\\OneDrive\\Documents\\Computer Visi...   cat\n",
      "4  C:\\Users\\Ryan\\OneDrive\\Documents\\Computer Visi...   cat\n",
      "class\n",
      "cat    12500\n",
      "dog    12500\n",
      "Name: count, dtype: int64\n"
     ]
    }
   ],
   "source": [
    "\n",
    "# Convert numeric labels to strings\n",
    "df['class'] = df['class'].map({0: 'cat', 1: 'dog'})\n",
    "\n",
    "# Verify the changes\n",
    "print(df.head())\n",
    "print(df['class'].value_counts())"
   ]
  },
  {
   "cell_type": "code",
   "execution_count": 14,
   "id": "4944fb6e-88d4-47fc-8499-5a451b9cbd0a",
   "metadata": {},
   "outputs": [
    {
     "name": "stdout",
     "output_type": "stream",
     "text": [
      "Found 20000 validated image filenames belonging to 2 classes.\n",
      "Found 5000 validated image filenames belonging to 2 classes.\n",
      "Custom data generators created!\n"
     ]
    }
   ],
   "source": [
    "\n",
    "# Define image size and batch size\n",
    "IMG_HEIGHT = 224\n",
    "IMG_WIDTH = 224\n",
    "BATCH_SIZE = 32\n",
    "\n",
    "# Create ImageDataGenerator instances\n",
    "datagen = ImageDataGenerator(\n",
    "    rescale=1./255,\n",
    "    rotation_range = 50,\n",
    "    zoom_range = .2,\n",
    "    horizontal_flip = True,\n",
    "    brightness_range = [.5, 1.7],\n",
    "    validation_split=0.2\n",
    ")\n",
    "\n",
    "# Training generator\n",
    "train_generator = datagen.flow_from_dataframe(\n",
    "    dataframe=df,\n",
    "    directory=None,  # Use None since file paths are absolute\n",
    "    x_col='filename',\n",
    "    y_col='class',\n",
    "    target_size=(IMG_HEIGHT, IMG_WIDTH),\n",
    "    batch_size=BATCH_SIZE,\n",
    "    class_mode='binary',\n",
    "    subset='training',\n",
    "    shuffle = True\n",
    ")\n",
    "\n",
    "# Validation generator\n",
    "validation_generator = datagen.flow_from_dataframe(\n",
    "    dataframe=df,\n",
    "    directory=None,  # Use None since file paths are absolute\n",
    "    x_col='filename',\n",
    "    y_col='class',\n",
    "    target_size=(IMG_HEIGHT, IMG_WIDTH),\n",
    "    batch_size=BATCH_SIZE,\n",
    "    class_mode='binary',\n",
    "    subset='validation',\n",
    "    shuffle = True\n",
    ")\n",
    "\n",
    "print(\"Custom data generators created!\")"
   ]
  },
  {
   "cell_type": "code",
   "execution_count": 16,
   "id": "f91db2ea-6415-4701-af1d-6e1c0075a0e3",
   "metadata": {},
   "outputs": [],
   "source": [
    "\n",
    "# Load the pre-trained MobileNetV2 model\n",
    "base_model = tf.keras.applications.MobileNetV2(\n",
    "    weights='imagenet',  # Load weights pre-trained on ImageNet\n",
    "    include_top=False,  # Exclude the final dense layers\n",
    "    input_shape=(IMG_HEIGHT, IMG_WIDTH, 3)  # Input shape\n",
    ")\n",
    "\n",
    "# Freeze the base model\n",
    "base_model.trainable = False\n",
    "\n",
    "# Build the new model on top of the pre-trained model\n",
    "model = models.Sequential([\n",
    "    base_model,\n",
    "    layers.GlobalAveragePooling2D(),  # Reduce dimensions from (H, W, C) to (C)\n",
    "    layers.Dense(1024, activation='relu'),  # Add a dense layer\n",
    "    layers.Dense(1, activation='sigmoid')  # Output layer with sigmoid activation\n",
    "])\n",
    "\n",
    "# Compile the model\n",
    "model.compile(\n",
    "    optimizer='adam',\n",
    "    loss='binary_crossentropy',  # Log loss function\n",
    "    metrics=['accuracy']\n",
    ")"
   ]
  },
  {
   "cell_type": "code",
   "execution_count": 17,
   "id": "e9da6bfe-2fb2-4920-8193-5c11e616b5cf",
   "metadata": {},
   "outputs": [
    {
     "name": "stdout",
     "output_type": "stream",
     "text": [
      "Epoch 1/10\n"
     ]
    },
    {
     "name": "stderr",
     "output_type": "stream",
     "text": [
      "C:\\Users\\Ryan\\anaconda3\\envs\\computer_vision\\Lib\\site-packages\\keras\\src\\trainers\\data_adapters\\py_dataset_adapter.py:122: UserWarning: Your `PyDataset` class should call `super().__init__(**kwargs)` in its constructor. `**kwargs` can include `workers`, `use_multiprocessing`, `max_queue_size`. Do not pass these arguments to `fit()`, as they will be ignored.\n",
      "  self._warn_if_super_not_called()\n"
     ]
    },
    {
     "name": "stdout",
     "output_type": "stream",
     "text": [
      "\u001b[1m625/625\u001b[0m \u001b[32m━━━━━━━━━━━━━━━━━━━━\u001b[0m\u001b[37m\u001b[0m \u001b[1m1649s\u001b[0m 3s/step - accuracy: 0.9364 - loss: 0.1637 - val_accuracy: 0.9168 - val_loss: 0.1867\n",
      "Epoch 2/10\n",
      "\u001b[1m625/625\u001b[0m \u001b[32m━━━━━━━━━━━━━━━━━━━━\u001b[0m\u001b[37m\u001b[0m \u001b[1m1526s\u001b[0m 2s/step - accuracy: 0.9609 - loss: 0.0981 - val_accuracy: 0.9804 - val_loss: 0.0569\n",
      "Epoch 3/10\n",
      "\u001b[1m625/625\u001b[0m \u001b[32m━━━━━━━━━━━━━━━━━━━━\u001b[0m\u001b[37m\u001b[0m \u001b[1m1546s\u001b[0m 2s/step - accuracy: 0.9620 - loss: 0.0909 - val_accuracy: 0.9562 - val_loss: 0.1058\n",
      "Epoch 4/10\n",
      "\u001b[1m625/625\u001b[0m \u001b[32m━━━━━━━━━━━━━━━━━━━━\u001b[0m\u001b[37m\u001b[0m \u001b[1m1503s\u001b[0m 2s/step - accuracy: 0.9652 - loss: 0.0871 - val_accuracy: 0.9504 - val_loss: 0.1207\n",
      "Epoch 5/10\n",
      "\u001b[1m625/625\u001b[0m \u001b[32m━━━━━━━━━━━━━━━━━━━━\u001b[0m\u001b[37m\u001b[0m \u001b[1m1543s\u001b[0m 2s/step - accuracy: 0.9651 - loss: 0.0856 - val_accuracy: 0.9632 - val_loss: 0.0871\n",
      "Epoch 6/10\n",
      "\u001b[1m625/625\u001b[0m \u001b[32m━━━━━━━━━━━━━━━━━━━━\u001b[0m\u001b[37m\u001b[0m \u001b[1m1564s\u001b[0m 2s/step - accuracy: 0.9678 - loss: 0.0787 - val_accuracy: 0.9436 - val_loss: 0.1335\n",
      "Epoch 7/10\n",
      "\u001b[1m625/625\u001b[0m \u001b[32m━━━━━━━━━━━━━━━━━━━━\u001b[0m\u001b[37m\u001b[0m \u001b[1m1552s\u001b[0m 2s/step - accuracy: 0.9684 - loss: 0.0759 - val_accuracy: 0.9628 - val_loss: 0.0998\n",
      "Epoch 8/10\n",
      "\u001b[1m625/625\u001b[0m \u001b[32m━━━━━━━━━━━━━━━━━━━━\u001b[0m\u001b[37m\u001b[0m \u001b[1m1593s\u001b[0m 2s/step - accuracy: 0.9705 - loss: 0.0691 - val_accuracy: 0.9486 - val_loss: 0.1417\n",
      "Epoch 9/10\n",
      "\u001b[1m625/625\u001b[0m \u001b[32m━━━━━━━━━━━━━━━━━━━━\u001b[0m\u001b[37m\u001b[0m \u001b[1m3167s\u001b[0m 5s/step - accuracy: 0.9744 - loss: 0.0676 - val_accuracy: 0.9618 - val_loss: 0.0962\n",
      "Epoch 10/10\n",
      "\u001b[1m625/625\u001b[0m \u001b[32m━━━━━━━━━━━━━━━━━━━━\u001b[0m\u001b[37m\u001b[0m \u001b[1m1268s\u001b[0m 2s/step - accuracy: 0.9720 - loss: 0.0702 - val_accuracy: 0.9498 - val_loss: 0.1276\n"
     ]
    }
   ],
   "source": [
    "# Train the model\n",
    "history = model.fit(\n",
    "    train_generator,\n",
    "    validation_data=validation_generator,  # Corrected variable name\n",
    "    epochs=10\n",
    ")"
   ]
  },
  {
   "cell_type": "code",
   "execution_count": 25,
   "id": "357f4a08-59d4-4474-b0f9-747c62b16209",
   "metadata": {},
   "outputs": [
    {
     "name": "stdout",
     "output_type": "stream",
     "text": [
      "DataFrame Columns: Index(['filename'], dtype='object')\n",
      "                                            filename\n",
      "0  C:\\Users\\Ryan\\OneDrive\\Documents\\Computer Visi...\n",
      "1  C:\\Users\\Ryan\\OneDrive\\Documents\\Computer Visi...\n",
      "2  C:\\Users\\Ryan\\OneDrive\\Documents\\Computer Visi...\n",
      "3  C:\\Users\\Ryan\\OneDrive\\Documents\\Computer Visi...\n",
      "4  C:\\Users\\Ryan\\OneDrive\\Documents\\Computer Visi...\n"
     ]
    }
   ],
   "source": [
    "test_dir = r'C:\\Users\\Ryan\\OneDrive\\Documents\\Computer Vision\\CV Discussion3\\test_data\\test'\n",
    "\n",
    "# List all test images with valid extensions\n",
    "test_image_files = [f for f in os.listdir(test_dir) if f.endswith(('.jpg', '.jpeg', '.png'))]\n",
    "\n",
    "# Create DataFrame with a 'filename' column\n",
    "test_df = pd.DataFrame({\n",
    "    'filename': [os.path.join(test_dir, f) for f in test_image_files]  # Full paths to test images\n",
    "})\n",
    "\n",
    "# Debug: Print the DataFrame to ensure it's correct\n",
    "print(\"DataFrame Columns:\", test_df.columns)\n",
    "print(test_df.head())  # Check the first few rows to verify the filenames"
   ]
  },
  {
   "cell_type": "code",
   "execution_count": 35,
   "id": "1888546c-e0bb-4af4-9149-387d50584c5c",
   "metadata": {},
   "outputs": [
    {
     "name": "stdout",
     "output_type": "stream",
     "text": [
      "Found 12500 validated image filenames.\n",
      "\u001b[1m    2/12500\u001b[0m \u001b[37m━━━━━━━━━━━━━━━━━━━━\u001b[0m \u001b[1m15:13\u001b[0m 73ms/step "
     ]
    },
    {
     "name": "stderr",
     "output_type": "stream",
     "text": [
      "C:\\Users\\Ryan\\anaconda3\\envs\\computer_vision\\Lib\\site-packages\\keras\\src\\trainers\\data_adapters\\py_dataset_adapter.py:122: UserWarning: Your `PyDataset` class should call `super().__init__(**kwargs)` in its constructor. `**kwargs` can include `workers`, `use_multiprocessing`, `max_queue_size`. Do not pass these arguments to `fit()`, as they will be ignored.\n",
      "  self._warn_if_super_not_called()\n"
     ]
    },
    {
     "name": "stdout",
     "output_type": "stream",
     "text": [
      "\u001b[1m12500/12500\u001b[0m \u001b[32m━━━━━━━━━━━━━━━━━━━━\u001b[0m\u001b[37m\u001b[0m \u001b[1m651s\u001b[0m 52ms/step\n"
     ]
    }
   ],
   "source": [
    "\n",
    "# Define the ImageDataGenerator\n",
    "test_datagen = ImageDataGenerator(rescale=1./255)\n",
    "\n",
    "# Test data generator\n",
    "test_generator = test_datagen.flow_from_dataframe(\n",
    "    dataframe=test_df,\n",
    "    directory=None,  # Use None if file paths are absolute\n",
    "    x_col='filename',\n",
    "    target_size=(IMG_HEIGHT, IMG_WIDTH),\n",
    "    batch_size=1,  # Typically batch size of 1 for predictions\n",
    "    class_mode=None,  # No labels for test data\n",
    "    shuffle=False  # Ensure the order is maintained for results\n",
    ")\n",
    "\n",
    "# Make predictions\n",
    "predictions = model.predict(test_generator)\n",
    "\n",
    "# Convert predictions to probabilities\n",
    "predicted_probabilities = predictions.flatten()\n",
    "\n",
    "# Convert probabilities to binary class predictions\n",
    "predicted_classes = (predicted_probabilities > 0.5).astype(int)\n"
   ]
  },
  {
   "cell_type": "code",
   "execution_count": 36,
   "id": "17c5e217-8b88-41bb-b5de-60ecb8566abf",
   "metadata": {},
   "outputs": [
    {
     "name": "stdout",
     "output_type": "stream",
     "text": [
      "Predictions saved to submission.csv\n"
     ]
    }
   ],
   "source": [
    "# Create a DataFrame with IDs and predictions\n",
    "results_df = pd.DataFrame({\n",
    "    'ID': [os.path.splitext(os.path.basename(f))[0] for f in test_image_files],  # IDs from file names\n",
    "    'label': predicted_classes  # 1 for dog, 0 for cat\n",
    "})\n",
    "\n",
    "# Save results to a CSV file\n",
    "results_df.to_csv('cnn_submission.csv', index=False)\n",
    "print('Predictions saved to submission.csv')"
   ]
  },
  {
   "cell_type": "code",
   "execution_count": 39,
   "id": "a04257d9-e1f5-43c4-aad1-20b0a9125e4c",
   "metadata": {},
   "outputs": [
    {
     "name": "stdout",
     "output_type": "stream",
     "text": [
      "Found 25000 validated image filenames belonging to 2 classes.\n"
     ]
    },
    {
     "name": "stderr",
     "output_type": "stream",
     "text": [
      "C:\\Users\\Ryan\\anaconda3\\envs\\computer_vision\\Lib\\site-packages\\keras\\src\\trainers\\data_adapters\\py_dataset_adapter.py:122: UserWarning: Your `PyDataset` class should call `super().__init__(**kwargs)` in its constructor. `**kwargs` can include `workers`, `use_multiprocessing`, `max_queue_size`. Do not pass these arguments to `fit()`, as they will be ignored.\n",
      "  self._warn_if_super_not_called()\n"
     ]
    },
    {
     "name": "stdout",
     "output_type": "stream",
     "text": [
      "\u001b[1m25000/25000\u001b[0m \u001b[32m━━━━━━━━━━━━━━━━━━━━\u001b[0m\u001b[37m\u001b[0m \u001b[1m1357s\u001b[0m 54ms/step\n"
     ]
    },
    {
     "ename": "ValueError",
     "evalue": "Found input variables with inconsistent numbers of samples: [20000, 25000]",
     "output_type": "error",
     "traceback": [
      "\u001b[1;31m---------------------------------------------------------------------------\u001b[0m",
      "\u001b[1;31mValueError\u001b[0m                                Traceback (most recent call last)",
      "Cell \u001b[1;32mIn[39], line 24\u001b[0m\n\u001b[0;32m     21\u001b[0m train_true_labels \u001b[38;5;241m=\u001b[39m train_generator\u001b[38;5;241m.\u001b[39mclasses\n\u001b[0;32m     23\u001b[0m \u001b[38;5;66;03m# Generate the confusion matrix using the predicted binary labels\u001b[39;00m\n\u001b[1;32m---> 24\u001b[0m conf_matrix_train \u001b[38;5;241m=\u001b[39m \u001b[43mconfusion_matrix\u001b[49m\u001b[43m(\u001b[49m\u001b[43mtrain_true_labels\u001b[49m\u001b[43m,\u001b[49m\u001b[43m \u001b[49m\u001b[43mtrain_predicted_labels\u001b[49m\u001b[43m)\u001b[49m\n\u001b[0;32m     26\u001b[0m \u001b[38;5;66;03m# Compute precision and recall using the predicted binary labels\u001b[39;00m\n\u001b[0;32m     27\u001b[0m precision_train \u001b[38;5;241m=\u001b[39m precision_score(train_true_labels, train_predicted_labels)\n",
      "File \u001b[1;32m~\\anaconda3\\envs\\computer_vision\\Lib\\site-packages\\sklearn\\utils\\_param_validation.py:213\u001b[0m, in \u001b[0;36mvalidate_params.<locals>.decorator.<locals>.wrapper\u001b[1;34m(*args, **kwargs)\u001b[0m\n\u001b[0;32m    207\u001b[0m \u001b[38;5;28;01mtry\u001b[39;00m:\n\u001b[0;32m    208\u001b[0m     \u001b[38;5;28;01mwith\u001b[39;00m config_context(\n\u001b[0;32m    209\u001b[0m         skip_parameter_validation\u001b[38;5;241m=\u001b[39m(\n\u001b[0;32m    210\u001b[0m             prefer_skip_nested_validation \u001b[38;5;129;01mor\u001b[39;00m global_skip_validation\n\u001b[0;32m    211\u001b[0m         )\n\u001b[0;32m    212\u001b[0m     ):\n\u001b[1;32m--> 213\u001b[0m         \u001b[38;5;28;01mreturn\u001b[39;00m \u001b[43mfunc\u001b[49m\u001b[43m(\u001b[49m\u001b[38;5;241;43m*\u001b[39;49m\u001b[43margs\u001b[49m\u001b[43m,\u001b[49m\u001b[43m \u001b[49m\u001b[38;5;241;43m*\u001b[39;49m\u001b[38;5;241;43m*\u001b[39;49m\u001b[43mkwargs\u001b[49m\u001b[43m)\u001b[49m\n\u001b[0;32m    214\u001b[0m \u001b[38;5;28;01mexcept\u001b[39;00m InvalidParameterError \u001b[38;5;28;01mas\u001b[39;00m e:\n\u001b[0;32m    215\u001b[0m     \u001b[38;5;66;03m# When the function is just a wrapper around an estimator, we allow\u001b[39;00m\n\u001b[0;32m    216\u001b[0m     \u001b[38;5;66;03m# the function to delegate validation to the estimator, but we replace\u001b[39;00m\n\u001b[0;32m    217\u001b[0m     \u001b[38;5;66;03m# the name of the estimator by the name of the function in the error\u001b[39;00m\n\u001b[0;32m    218\u001b[0m     \u001b[38;5;66;03m# message to avoid confusion.\u001b[39;00m\n\u001b[0;32m    219\u001b[0m     msg \u001b[38;5;241m=\u001b[39m re\u001b[38;5;241m.\u001b[39msub(\n\u001b[0;32m    220\u001b[0m         \u001b[38;5;124mr\u001b[39m\u001b[38;5;124m\"\u001b[39m\u001b[38;5;124mparameter of \u001b[39m\u001b[38;5;124m\\\u001b[39m\u001b[38;5;124mw+ must be\u001b[39m\u001b[38;5;124m\"\u001b[39m,\n\u001b[0;32m    221\u001b[0m         \u001b[38;5;124mf\u001b[39m\u001b[38;5;124m\"\u001b[39m\u001b[38;5;124mparameter of \u001b[39m\u001b[38;5;132;01m{\u001b[39;00mfunc\u001b[38;5;241m.\u001b[39m\u001b[38;5;18m__qualname__\u001b[39m\u001b[38;5;132;01m}\u001b[39;00m\u001b[38;5;124m must be\u001b[39m\u001b[38;5;124m\"\u001b[39m,\n\u001b[0;32m    222\u001b[0m         \u001b[38;5;28mstr\u001b[39m(e),\n\u001b[0;32m    223\u001b[0m     )\n",
      "File \u001b[1;32m~\\anaconda3\\envs\\computer_vision\\Lib\\site-packages\\sklearn\\metrics\\_classification.py:342\u001b[0m, in \u001b[0;36mconfusion_matrix\u001b[1;34m(y_true, y_pred, labels, sample_weight, normalize)\u001b[0m\n\u001b[0;32m    247\u001b[0m \u001b[38;5;129m@validate_params\u001b[39m(\n\u001b[0;32m    248\u001b[0m     {\n\u001b[0;32m    249\u001b[0m         \u001b[38;5;124m\"\u001b[39m\u001b[38;5;124my_true\u001b[39m\u001b[38;5;124m\"\u001b[39m: [\u001b[38;5;124m\"\u001b[39m\u001b[38;5;124marray-like\u001b[39m\u001b[38;5;124m\"\u001b[39m],\n\u001b[1;32m   (...)\u001b[0m\n\u001b[0;32m    258\u001b[0m     y_true, y_pred, \u001b[38;5;241m*\u001b[39m, labels\u001b[38;5;241m=\u001b[39m\u001b[38;5;28;01mNone\u001b[39;00m, sample_weight\u001b[38;5;241m=\u001b[39m\u001b[38;5;28;01mNone\u001b[39;00m, normalize\u001b[38;5;241m=\u001b[39m\u001b[38;5;28;01mNone\u001b[39;00m\n\u001b[0;32m    259\u001b[0m ):\n\u001b[0;32m    260\u001b[0m \u001b[38;5;250m    \u001b[39m\u001b[38;5;124;03m\"\"\"Compute confusion matrix to evaluate the accuracy of a classification.\u001b[39;00m\n\u001b[0;32m    261\u001b[0m \n\u001b[0;32m    262\u001b[0m \u001b[38;5;124;03m    By definition a confusion matrix :math:`C` is such that :math:`C_{i, j}`\u001b[39;00m\n\u001b[1;32m   (...)\u001b[0m\n\u001b[0;32m    340\u001b[0m \u001b[38;5;124;03m    (0, 2, 1, 1)\u001b[39;00m\n\u001b[0;32m    341\u001b[0m \u001b[38;5;124;03m    \"\"\"\u001b[39;00m\n\u001b[1;32m--> 342\u001b[0m     y_type, y_true, y_pred \u001b[38;5;241m=\u001b[39m \u001b[43m_check_targets\u001b[49m\u001b[43m(\u001b[49m\u001b[43my_true\u001b[49m\u001b[43m,\u001b[49m\u001b[43m \u001b[49m\u001b[43my_pred\u001b[49m\u001b[43m)\u001b[49m\n\u001b[0;32m    343\u001b[0m     \u001b[38;5;28;01mif\u001b[39;00m y_type \u001b[38;5;129;01mnot\u001b[39;00m \u001b[38;5;129;01min\u001b[39;00m (\u001b[38;5;124m\"\u001b[39m\u001b[38;5;124mbinary\u001b[39m\u001b[38;5;124m\"\u001b[39m, \u001b[38;5;124m\"\u001b[39m\u001b[38;5;124mmulticlass\u001b[39m\u001b[38;5;124m\"\u001b[39m):\n\u001b[0;32m    344\u001b[0m         \u001b[38;5;28;01mraise\u001b[39;00m \u001b[38;5;167;01mValueError\u001b[39;00m(\u001b[38;5;124m\"\u001b[39m\u001b[38;5;132;01m%s\u001b[39;00m\u001b[38;5;124m is not supported\u001b[39m\u001b[38;5;124m\"\u001b[39m \u001b[38;5;241m%\u001b[39m y_type)\n",
      "File \u001b[1;32m~\\anaconda3\\envs\\computer_vision\\Lib\\site-packages\\sklearn\\metrics\\_classification.py:103\u001b[0m, in \u001b[0;36m_check_targets\u001b[1;34m(y_true, y_pred)\u001b[0m\n\u001b[0;32m     76\u001b[0m \u001b[38;5;250m\u001b[39m\u001b[38;5;124;03m\"\"\"Check that y_true and y_pred belong to the same classification task.\u001b[39;00m\n\u001b[0;32m     77\u001b[0m \n\u001b[0;32m     78\u001b[0m \u001b[38;5;124;03mThis converts multiclass or binary types to a common shape, and raises a\u001b[39;00m\n\u001b[1;32m   (...)\u001b[0m\n\u001b[0;32m    100\u001b[0m \u001b[38;5;124;03my_pred : array or indicator matrix\u001b[39;00m\n\u001b[0;32m    101\u001b[0m \u001b[38;5;124;03m\"\"\"\u001b[39;00m\n\u001b[0;32m    102\u001b[0m xp, _ \u001b[38;5;241m=\u001b[39m get_namespace(y_true, y_pred)\n\u001b[1;32m--> 103\u001b[0m \u001b[43mcheck_consistent_length\u001b[49m\u001b[43m(\u001b[49m\u001b[43my_true\u001b[49m\u001b[43m,\u001b[49m\u001b[43m \u001b[49m\u001b[43my_pred\u001b[49m\u001b[43m)\u001b[49m\n\u001b[0;32m    104\u001b[0m type_true \u001b[38;5;241m=\u001b[39m type_of_target(y_true, input_name\u001b[38;5;241m=\u001b[39m\u001b[38;5;124m\"\u001b[39m\u001b[38;5;124my_true\u001b[39m\u001b[38;5;124m\"\u001b[39m)\n\u001b[0;32m    105\u001b[0m type_pred \u001b[38;5;241m=\u001b[39m type_of_target(y_pred, input_name\u001b[38;5;241m=\u001b[39m\u001b[38;5;124m\"\u001b[39m\u001b[38;5;124my_pred\u001b[39m\u001b[38;5;124m\"\u001b[39m)\n",
      "File \u001b[1;32m~\\anaconda3\\envs\\computer_vision\\Lib\\site-packages\\sklearn\\utils\\validation.py:457\u001b[0m, in \u001b[0;36mcheck_consistent_length\u001b[1;34m(*arrays)\u001b[0m\n\u001b[0;32m    455\u001b[0m uniques \u001b[38;5;241m=\u001b[39m np\u001b[38;5;241m.\u001b[39munique(lengths)\n\u001b[0;32m    456\u001b[0m \u001b[38;5;28;01mif\u001b[39;00m \u001b[38;5;28mlen\u001b[39m(uniques) \u001b[38;5;241m>\u001b[39m \u001b[38;5;241m1\u001b[39m:\n\u001b[1;32m--> 457\u001b[0m     \u001b[38;5;28;01mraise\u001b[39;00m \u001b[38;5;167;01mValueError\u001b[39;00m(\n\u001b[0;32m    458\u001b[0m         \u001b[38;5;124m\"\u001b[39m\u001b[38;5;124mFound input variables with inconsistent numbers of samples: \u001b[39m\u001b[38;5;132;01m%r\u001b[39;00m\u001b[38;5;124m\"\u001b[39m\n\u001b[0;32m    459\u001b[0m         \u001b[38;5;241m%\u001b[39m [\u001b[38;5;28mint\u001b[39m(l) \u001b[38;5;28;01mfor\u001b[39;00m l \u001b[38;5;129;01min\u001b[39;00m lengths]\n\u001b[0;32m    460\u001b[0m     )\n",
      "\u001b[1;31mValueError\u001b[0m: Found input variables with inconsistent numbers of samples: [20000, 25000]"
     ]
    }
   ],
   "source": [
    "#Create a datagenerator for all the training data for the confusion matrix\n",
    "all_data_gen = ImageDataGenerator(rescale = 1./255)\n",
    "\n",
    "train_full_generator = all_data_gen.flow_from_dataframe(\n",
    "    dataframe=df,\n",
    "    directory=None,  # Use None since file paths are absolute\n",
    "    x_col='filename',\n",
    "    y_col='class',\n",
    "    target_size=(IMG_HEIGHT, IMG_WIDTH),\n",
    "    batch_size= 1,\n",
    "    class_mode='binary',\n",
    "    shuffle = False\n",
    ")"
   ]
  },
  {
   "cell_type": "code",
   "execution_count": 41,
   "id": "32f1f6ca-d27b-4643-82b3-e6dbf8de8721",
   "metadata": {},
   "outputs": [],
   "source": []
  },
  {
   "cell_type": "code",
   "execution_count": 43,
   "id": "e5d6351a-1936-4d51-8ef0-ac5cc2386ae2",
   "metadata": {},
   "outputs": [
    {
     "name": "stdout",
     "output_type": "stream",
     "text": [
      "\u001b[1m25000/25000\u001b[0m \u001b[32m━━━━━━━━━━━━━━━━━━━━\u001b[0m\u001b[37m\u001b[0m \u001b[1m1481s\u001b[0m 59ms/step\n",
      "Confusion Matrix for Training Data:\n",
      "[[12190   310]\n",
      " [   73 12427]]\n",
      "Precision: 0.98\n",
      "Recall: 0.99\n"
     ]
    }
   ],
   "source": [
    "# Predict on the entire training data\n",
    "train_predictions = model.predict(train_full_generator)\n",
    "train_predicted_labels = np.where(train_predictions > 0.5, 1, 0).flatten()  # Convert probabilities to binary class labels\n",
    "\n",
    "# Get true labels from the full training generator\n",
    "train_true_labels = train_full_generator.classes\n",
    "\n",
    "# Generate the confusion matrix\n",
    "conf_matrix_train = confusion_matrix(train_true_labels, train_predicted_labels)\n",
    "precision_train = precision_score(train_true_labels, train_predicted_labels)\n",
    "recall_train = recall_score(train_true_labels, train_predicted_labels)\n",
    "\n",
    "# Print results\n",
    "print('Confusion Matrix for Training Data:')\n",
    "print(conf_matrix_train)\n",
    "print(f'Precision: {precision_train:.2f}')\n",
    "print(f'Recall: {recall_train:.2f}')\n",
    "\n"
   ]
  },
  {
   "cell_type": "code",
   "execution_count": null,
   "id": "7c4b36e6-4b4d-42d3-b0f0-2572056ddc2a",
   "metadata": {},
   "outputs": [],
   "source": []
  }
 ],
 "metadata": {
  "kernelspec": {
   "display_name": "Python 3 (ipykernel)",
   "language": "python",
   "name": "python3"
  },
  "language_info": {
   "codemirror_mode": {
    "name": "ipython",
    "version": 3
   },
   "file_extension": ".py",
   "mimetype": "text/x-python",
   "name": "python",
   "nbconvert_exporter": "python",
   "pygments_lexer": "ipython3",
   "version": "3.12.4"
  }
 },
 "nbformat": 4,
 "nbformat_minor": 5
}
