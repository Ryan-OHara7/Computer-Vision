{
 "cells": [
  {
   "cell_type": "code",
   "execution_count": 1,
   "id": "6f79d1cc",
   "metadata": {
    "_cell_guid": "b1076dfc-b9ad-4769-8c92-a6c4dae69d19",
    "_uuid": "8f2839f25d086af736a60e9eeb907d3b93b6e0e5",
    "execution": {
     "iopub.execute_input": "2024-10-07T03:52:56.744143Z",
     "iopub.status.busy": "2024-10-07T03:52:56.743769Z",
     "iopub.status.idle": "2024-10-07T03:52:57.533848Z",
     "shell.execute_reply": "2024-10-07T03:52:57.532359Z"
    },
    "papermill": {
     "duration": 0.798699,
     "end_time": "2024-10-07T03:52:57.535958",
     "exception": false,
     "start_time": "2024-10-07T03:52:56.737259",
     "status": "completed"
    },
    "tags": []
   },
   "outputs": [
    {
     "name": "stdout",
     "output_type": "stream",
     "text": [
      "/kaggle/input/Kannada-MNIST/sample_submission.csv\n",
      "/kaggle/input/Kannada-MNIST/Dig-MNIST.csv\n",
      "/kaggle/input/Kannada-MNIST/train.csv\n",
      "/kaggle/input/Kannada-MNIST/test.csv\n"
     ]
    }
   ],
   "source": [
    "# This Python 3 environment comes with many helpful analytics libraries installed\n",
    "# It is defined by the kaggle/python Docker image: https://github.com/kaggle/docker-python\n",
    "# For example, here's several helpful packages to load\n",
    "\n",
    "import numpy as np # linear algebra\n",
    "import pandas as pd # data processing, CSV file I/O (e.g. pd.read_csv)\n",
    "\n",
    "# Input data files are available in the read-only \"../input/\" directory\n",
    "# For example, running this (by clicking run or pressing Shift+Enter) will list all files under the input directory\n",
    "\n",
    "import os\n",
    "for dirname, _, filenames in os.walk('/kaggle/input'):\n",
    "    for filename in filenames:\n",
    "        print(os.path.join(dirname, filename))\n",
    "\n",
    "# You can write up to 20GB to the current directory (/kaggle/working/) that gets preserved as output when you create a version using \"Save & Run All\" \n",
    "# You can also write temporary files to /kaggle/temp/, but they won't be saved outside of the current session"
   ]
  },
  {
   "cell_type": "markdown",
   "id": "549540af",
   "metadata": {
    "papermill": {
     "duration": 0.004218,
     "end_time": "2024-10-07T03:52:57.544907",
     "exception": false,
     "start_time": "2024-10-07T03:52:57.540689",
     "status": "completed"
    },
    "tags": []
   },
   "source": [
    "Import the needed packages for this model. This model uses Keras Tensor Flow."
   ]
  },
  {
   "cell_type": "code",
   "execution_count": 2,
   "id": "656b9bad",
   "metadata": {
    "execution": {
     "iopub.execute_input": "2024-10-07T03:52:57.555307Z",
     "iopub.status.busy": "2024-10-07T03:52:57.554478Z",
     "iopub.status.idle": "2024-10-07T03:53:10.673467Z",
     "shell.execute_reply": "2024-10-07T03:53:10.672475Z"
    },
    "papermill": {
     "duration": 13.126622,
     "end_time": "2024-10-07T03:53:10.675817",
     "exception": false,
     "start_time": "2024-10-07T03:52:57.549195",
     "status": "completed"
    },
    "tags": []
   },
   "outputs": [],
   "source": [
    "import os\n",
    "import numpy as np\n",
    "import pandas as pd\n",
    "import tensorflow as tf\n",
    "from tensorflow.keras.preprocessing.image import ImageDataGenerator\n",
    "import zipfile\n",
    "from tensorflow.keras import layers, models\n",
    "from keras.models import Sequential\n",
    "from keras.layers import Conv2D, MaxPooling2D, Flatten, Dense, Dropout, BatchNormalization\n",
    "from keras.regularizers import l2\n",
    "import cv2  \n",
    "from keras.optimizers import Adam, SGD #Import Optimization Functions\n",
    "import matplotlib.pyplot as plt\n",
    "from keras.callbacks import EarlyStopping"
   ]
  },
  {
   "cell_type": "markdown",
   "id": "2cf4c580",
   "metadata": {
    "papermill": {
     "duration": 0.004498,
     "end_time": "2024-10-07T03:53:10.684861",
     "exception": false,
     "start_time": "2024-10-07T03:53:10.680363",
     "status": "completed"
    },
    "tags": []
   },
   "source": [
    "In this step the data (that is already pre-imported for the Kaggle Competition) is read using the read_csv function. The file path is found running the first Kaggle pre-written chunk of code. The results of the read csv file are stored in an dataframe called \"train_df.\"\n",
    "\n",
    "Before the data is ready to feed through a CNN, we need to pretreat the data. The first step is to seperate the pixel data from the labels in the training data so the model has correct labeled data to train on. The iloc funtion is used to seperate the pixel data stored in an object called \"X\" and the label data (found in the first column) stored in an object called \"y\". \n",
    "\n",
    "\n",
    "Finally, to find the shape of the csv file we call the shape function. We can see there are 60,000 pictures stored as 784 pixels strings. 28x28 = 784 so we know we have the correct dimensions."
   ]
  },
  {
   "cell_type": "code",
   "execution_count": 3,
   "id": "a0dfa679",
   "metadata": {
    "execution": {
     "iopub.execute_input": "2024-10-07T03:53:10.695169Z",
     "iopub.status.busy": "2024-10-07T03:53:10.694610Z",
     "iopub.status.idle": "2024-10-07T03:53:15.447618Z",
     "shell.execute_reply": "2024-10-07T03:53:15.446690Z"
    },
    "papermill": {
     "duration": 4.760686,
     "end_time": "2024-10-07T03:53:15.450010",
     "exception": false,
     "start_time": "2024-10-07T03:53:10.689324",
     "status": "completed"
    },
    "tags": []
   },
   "outputs": [
    {
     "data": {
      "text/plain": [
       "(60000, 784)"
      ]
     },
     "execution_count": 3,
     "metadata": {},
     "output_type": "execute_result"
    }
   ],
   "source": [
    "# Load and preprocess the data\n",
    "train_df = pd.read_csv('/kaggle/input/Kannada-MNIST/train.csv')\n",
    "\n",
    "# Separate features and labels\n",
    "X = train_df.iloc[:, 1:].values.astype(np.float32)  # pixel data\n",
    "y = train_df.iloc[:, 0].values  # labels\n",
    "\n",
    "X.shape\n"
   ]
  },
  {
   "cell_type": "markdown",
   "id": "073283ee",
   "metadata": {
    "papermill": {
     "duration": 0.004329,
     "end_time": "2024-10-07T03:53:15.460508",
     "exception": false,
     "start_time": "2024-10-07T03:53:15.456179",
     "status": "completed"
    },
    "tags": []
   },
   "source": [
    "The csv file is a list of grayscale pixel values. We know that the true natrue of these pictures are in a 28x28 grid. In order to use a Convolutional Neural Network (CNN) we must reshape the data to have the 28x28x1 shape. The 1 is the single grayscale pixel value. \n",
    "\n",
    "Most pre-trained models require the use of RGB color scale and would therefore require 3 as the pixel value shape arguement. Pre-trained models MobileNet2 and VGG16 were explored for this competition, however it was determined through experimentation and many trials that an original, simplified architecture was better for this particular use case/competition. More in depth on this below... "
   ]
  },
  {
   "cell_type": "code",
   "execution_count": 4,
   "id": "decd9fd1",
   "metadata": {
    "execution": {
     "iopub.execute_input": "2024-10-07T03:53:15.471015Z",
     "iopub.status.busy": "2024-10-07T03:53:15.470669Z",
     "iopub.status.idle": "2024-10-07T03:53:15.474984Z",
     "shell.execute_reply": "2024-10-07T03:53:15.474209Z"
    },
    "papermill": {
     "duration": 0.011829,
     "end_time": "2024-10-07T03:53:15.476938",
     "exception": false,
     "start_time": "2024-10-07T03:53:15.465109",
     "status": "completed"
    },
    "tags": []
   },
   "outputs": [],
   "source": [
    "# Assuming X has the shape (60000, 784) where 784 = 28x28 \n",
    "#Reshape the data to seperate the individual pictures in the stored in the csv file\n",
    "X_reshaped = X.reshape(-1, 28, 28, 1)  # Reshape to (num_samples, 28, 28, 1)"
   ]
  },
  {
   "cell_type": "markdown",
   "id": "c607b9c8",
   "metadata": {
    "papermill": {
     "duration": 0.00436,
     "end_time": "2024-10-07T03:53:15.486031",
     "exception": false,
     "start_time": "2024-10-07T03:53:15.481671",
     "status": "completed"
    },
    "tags": []
   },
   "source": [
    "The below chunk calls the ImageGenerator. This is what allows the CNN to read the data image by image, and allowing for the filters to pass over. Data augmentation is a possibility here, although it was not used. Image augmentation allows a user to artificially change an image in the dataset by rotating, zooming, flipping, translating, shearing, adjusting brightness, contrast, etc. This can be very useful in complex datasets that may be limited in their size. This can help introduce variability and uniqueness among the data for a more robust model. Since we are working with fairly simple images on the smaller 28X28 image scale, and being grayscale I found that image augmentation was not needed. In fact it created longer training times (expected) and worse results on both validation sets and Kaggle scoring for this competition. \n",
    "\n",
    "This data generator standardized the pixel value to be between 0 and 1 vs 0-255 (default grayscale range). This will help simplify the math behind the scenes as well as keep the calulated values reasonably low dimensions. Not rescaling the data can cause weight imbalance, higher resource usage such as processing and memory, longer training times, and less robust models. \n",
    "\n",
    "We are also creating a validation split in the datagenerator. We are using the classic 80% train and 20% validation split for the model training and fine tuning. \n",
    "\n",
    "Finally we create the train and validation generator using the defined datagen (DataImageGenerator). We are using the reshaped data in the previous step, the y labels from the data seperation step, and making the batch size 32. Batch size specifies how many training examples are used in one iteration of the model training. Larger batches take less time to train but require more memory. 32 is a pretty standard number for the size of our dataset.\n",
    "\n",
    "The seed is also set to 77 for reproducability within the datagenerator"
   ]
  },
  {
   "cell_type": "code",
   "execution_count": 5,
   "id": "e7dbfa83",
   "metadata": {
    "execution": {
     "iopub.execute_input": "2024-10-07T03:53:15.496160Z",
     "iopub.status.busy": "2024-10-07T03:53:15.495842Z",
     "iopub.status.idle": "2024-10-07T03:53:15.503838Z",
     "shell.execute_reply": "2024-10-07T03:53:15.503095Z"
    },
    "papermill": {
     "duration": 0.01542,
     "end_time": "2024-10-07T03:53:15.505820",
     "exception": false,
     "start_time": "2024-10-07T03:53:15.490400",
     "status": "completed"
    },
    "tags": []
   },
   "outputs": [],
   "source": [
    "# Create ImageDataGenerator instances with validation split and rescaling\n",
    "datagen = ImageDataGenerator(\n",
    "    rescale=1.0 / 255.0,  # Normalize pixel values to [0, 1]\n",
    "    validation_split=0.2  # Automatically split for validation\n",
    ")\n",
    "\n",
    "\n",
    "# Create training and validation generators\n",
    "train_generator = datagen.flow(X_reshaped, y, batch_size=32, subset='training',shuffle = True, seed = 77)\n",
    "validation_generator = datagen.flow(X_reshaped, y, batch_size=32, subset='validation', shuffle = True, seed = 77)"
   ]
  },
  {
   "cell_type": "markdown",
   "id": "0bb23336",
   "metadata": {
    "papermill": {
     "duration": 0.004594,
     "end_time": "2024-10-07T03:53:15.515151",
     "exception": false,
     "start_time": "2024-10-07T03:53:15.510557",
     "status": "completed"
    },
    "tags": []
   },
   "source": [
    "The below chunk is the model design. There was a lot of experimentation in the model building with many submissions. First pre-trained models were applied; MobileNet2 and VGG16. First pre-trained weights were used and imported from the internet. Good scores were obtained in the validation set. Training times were slightly longer using the pre-trained models taking about one minute per epoch. Model performance increased when the optimizer was changed halfway through training from adam to sgd. However, when attempting to submit the notebook to Kaggle, notebooks are not allowed to access the internet for this competition. \n",
    "\n",
    "I then attempted to create a CNN using the pre-trained models with random intilized weights. While this worked and obtained good Kaggle scores (about .9650), the training time was still about a minute per epoch while using GPUs.\n",
    "\n",
    "I then attempted to create a CNN model from scratch, where I obtained the best submission results. The design and summary of the CNN is below. The first convolutional layer uses 32, 3x3 filters with relu activation, a max pooling layer follows, followed by a second convolutional layer with 64 5x5 and 64 3x3 filters, followed by another max pooling layer. Then the outputs are flattened into a 1D array and passed through the dense layers of 128,64,32 neurons and finally the output layer of softmax 10 (10 categories we are classifying). \n",
    "\n",
    "Upon further thinking I believe the from scratch CNN model performed better because it was an architecture designed for our specific data. Many of the pretrained models require the data input to be images of much larger scale and on the RGB color scheme, adding even more data and dimensionality to our data set (much of which would have to be extrapolated from the much more basic raw data we have to work with). MobileNet2 and VGG16 need 224x224 pixel inputs which is a far way off from 28x28. I think the from scratch model helped protect the integrity of the original data, and therefore performed better on the test data."
   ]
  },
  {
   "cell_type": "code",
   "execution_count": 6,
   "id": "38ca3c26",
   "metadata": {
    "execution": {
     "iopub.execute_input": "2024-10-07T03:53:15.526223Z",
     "iopub.status.busy": "2024-10-07T03:53:15.525927Z",
     "iopub.status.idle": "2024-10-07T03:53:16.464268Z",
     "shell.execute_reply": "2024-10-07T03:53:16.463392Z"
    },
    "papermill": {
     "duration": 0.946114,
     "end_time": "2024-10-07T03:53:16.466183",
     "exception": false,
     "start_time": "2024-10-07T03:53:15.520069",
     "status": "completed"
    },
    "tags": []
   },
   "outputs": [
    {
     "name": "stderr",
     "output_type": "stream",
     "text": [
      "/opt/conda/lib/python3.10/site-packages/keras/src/layers/convolutional/base_conv.py:107: UserWarning: Do not pass an `input_shape`/`input_dim` argument to a layer. When using Sequential models, prefer using an `Input(shape)` object as the first layer in the model instead.\n",
      "  super().__init__(activity_regularizer=activity_regularizer, **kwargs)\n"
     ]
    },
    {
     "data": {
      "text/html": [
       "<pre style=\"white-space:pre;overflow-x:auto;line-height:normal;font-family:Menlo,'DejaVu Sans Mono',consolas,'Courier New',monospace\"><span style=\"font-weight: bold\">Model: \"sequential\"</span>\n",
       "</pre>\n"
      ],
      "text/plain": [
       "\u001b[1mModel: \"sequential\"\u001b[0m\n"
      ]
     },
     "metadata": {},
     "output_type": "display_data"
    },
    {
     "data": {
      "text/html": [
       "<pre style=\"white-space:pre;overflow-x:auto;line-height:normal;font-family:Menlo,'DejaVu Sans Mono',consolas,'Courier New',monospace\">┏━━━━━━━━━━━━━━━━━━━━━━━━━━━━━━━━━┳━━━━━━━━━━━━━━━━━━━━━━━━┳━━━━━━━━━━━━━━━┓\n",
       "┃<span style=\"font-weight: bold\"> Layer (type)                    </span>┃<span style=\"font-weight: bold\"> Output Shape           </span>┃<span style=\"font-weight: bold\">       Param # </span>┃\n",
       "┡━━━━━━━━━━━━━━━━━━━━━━━━━━━━━━━━━╇━━━━━━━━━━━━━━━━━━━━━━━━╇━━━━━━━━━━━━━━━┩\n",
       "│ conv2d (<span style=\"color: #0087ff; text-decoration-color: #0087ff\">Conv2D</span>)                 │ (<span style=\"color: #00d7ff; text-decoration-color: #00d7ff\">None</span>, <span style=\"color: #00af00; text-decoration-color: #00af00\">26</span>, <span style=\"color: #00af00; text-decoration-color: #00af00\">26</span>, <span style=\"color: #00af00; text-decoration-color: #00af00\">32</span>)     │           <span style=\"color: #00af00; text-decoration-color: #00af00\">320</span> │\n",
       "├─────────────────────────────────┼────────────────────────┼───────────────┤\n",
       "│ batch_normalization             │ (<span style=\"color: #00d7ff; text-decoration-color: #00d7ff\">None</span>, <span style=\"color: #00af00; text-decoration-color: #00af00\">26</span>, <span style=\"color: #00af00; text-decoration-color: #00af00\">26</span>, <span style=\"color: #00af00; text-decoration-color: #00af00\">32</span>)     │           <span style=\"color: #00af00; text-decoration-color: #00af00\">128</span> │\n",
       "│ (<span style=\"color: #0087ff; text-decoration-color: #0087ff\">BatchNormalization</span>)            │                        │               │\n",
       "├─────────────────────────────────┼────────────────────────┼───────────────┤\n",
       "│ max_pooling2d (<span style=\"color: #0087ff; text-decoration-color: #0087ff\">MaxPooling2D</span>)    │ (<span style=\"color: #00d7ff; text-decoration-color: #00d7ff\">None</span>, <span style=\"color: #00af00; text-decoration-color: #00af00\">13</span>, <span style=\"color: #00af00; text-decoration-color: #00af00\">13</span>, <span style=\"color: #00af00; text-decoration-color: #00af00\">32</span>)     │             <span style=\"color: #00af00; text-decoration-color: #00af00\">0</span> │\n",
       "├─────────────────────────────────┼────────────────────────┼───────────────┤\n",
       "│ conv2d_1 (<span style=\"color: #0087ff; text-decoration-color: #0087ff\">Conv2D</span>)               │ (<span style=\"color: #00d7ff; text-decoration-color: #00d7ff\">None</span>, <span style=\"color: #00af00; text-decoration-color: #00af00\">9</span>, <span style=\"color: #00af00; text-decoration-color: #00af00\">9</span>, <span style=\"color: #00af00; text-decoration-color: #00af00\">64</span>)       │        <span style=\"color: #00af00; text-decoration-color: #00af00\">51,264</span> │\n",
       "├─────────────────────────────────┼────────────────────────┼───────────────┤\n",
       "│ batch_normalization_1           │ (<span style=\"color: #00d7ff; text-decoration-color: #00d7ff\">None</span>, <span style=\"color: #00af00; text-decoration-color: #00af00\">9</span>, <span style=\"color: #00af00; text-decoration-color: #00af00\">9</span>, <span style=\"color: #00af00; text-decoration-color: #00af00\">64</span>)       │           <span style=\"color: #00af00; text-decoration-color: #00af00\">256</span> │\n",
       "│ (<span style=\"color: #0087ff; text-decoration-color: #0087ff\">BatchNormalization</span>)            │                        │               │\n",
       "├─────────────────────────────────┼────────────────────────┼───────────────┤\n",
       "│ conv2d_2 (<span style=\"color: #0087ff; text-decoration-color: #0087ff\">Conv2D</span>)               │ (<span style=\"color: #00d7ff; text-decoration-color: #00d7ff\">None</span>, <span style=\"color: #00af00; text-decoration-color: #00af00\">7</span>, <span style=\"color: #00af00; text-decoration-color: #00af00\">7</span>, <span style=\"color: #00af00; text-decoration-color: #00af00\">64</span>)       │        <span style=\"color: #00af00; text-decoration-color: #00af00\">36,928</span> │\n",
       "├─────────────────────────────────┼────────────────────────┼───────────────┤\n",
       "│ batch_normalization_2           │ (<span style=\"color: #00d7ff; text-decoration-color: #00d7ff\">None</span>, <span style=\"color: #00af00; text-decoration-color: #00af00\">7</span>, <span style=\"color: #00af00; text-decoration-color: #00af00\">7</span>, <span style=\"color: #00af00; text-decoration-color: #00af00\">64</span>)       │           <span style=\"color: #00af00; text-decoration-color: #00af00\">256</span> │\n",
       "│ (<span style=\"color: #0087ff; text-decoration-color: #0087ff\">BatchNormalization</span>)            │                        │               │\n",
       "├─────────────────────────────────┼────────────────────────┼───────────────┤\n",
       "│ max_pooling2d_1 (<span style=\"color: #0087ff; text-decoration-color: #0087ff\">MaxPooling2D</span>)  │ (<span style=\"color: #00d7ff; text-decoration-color: #00d7ff\">None</span>, <span style=\"color: #00af00; text-decoration-color: #00af00\">3</span>, <span style=\"color: #00af00; text-decoration-color: #00af00\">3</span>, <span style=\"color: #00af00; text-decoration-color: #00af00\">64</span>)       │             <span style=\"color: #00af00; text-decoration-color: #00af00\">0</span> │\n",
       "├─────────────────────────────────┼────────────────────────┼───────────────┤\n",
       "│ flatten (<span style=\"color: #0087ff; text-decoration-color: #0087ff\">Flatten</span>)               │ (<span style=\"color: #00d7ff; text-decoration-color: #00d7ff\">None</span>, <span style=\"color: #00af00; text-decoration-color: #00af00\">576</span>)            │             <span style=\"color: #00af00; text-decoration-color: #00af00\">0</span> │\n",
       "├─────────────────────────────────┼────────────────────────┼───────────────┤\n",
       "│ dense (<span style=\"color: #0087ff; text-decoration-color: #0087ff\">Dense</span>)                   │ (<span style=\"color: #00d7ff; text-decoration-color: #00d7ff\">None</span>, <span style=\"color: #00af00; text-decoration-color: #00af00\">128</span>)            │        <span style=\"color: #00af00; text-decoration-color: #00af00\">73,856</span> │\n",
       "├─────────────────────────────────┼────────────────────────┼───────────────┤\n",
       "│ dropout (<span style=\"color: #0087ff; text-decoration-color: #0087ff\">Dropout</span>)               │ (<span style=\"color: #00d7ff; text-decoration-color: #00d7ff\">None</span>, <span style=\"color: #00af00; text-decoration-color: #00af00\">128</span>)            │             <span style=\"color: #00af00; text-decoration-color: #00af00\">0</span> │\n",
       "├─────────────────────────────────┼────────────────────────┼───────────────┤\n",
       "│ dense_1 (<span style=\"color: #0087ff; text-decoration-color: #0087ff\">Dense</span>)                 │ (<span style=\"color: #00d7ff; text-decoration-color: #00d7ff\">None</span>, <span style=\"color: #00af00; text-decoration-color: #00af00\">64</span>)             │         <span style=\"color: #00af00; text-decoration-color: #00af00\">8,256</span> │\n",
       "├─────────────────────────────────┼────────────────────────┼───────────────┤\n",
       "│ dropout_1 (<span style=\"color: #0087ff; text-decoration-color: #0087ff\">Dropout</span>)             │ (<span style=\"color: #00d7ff; text-decoration-color: #00d7ff\">None</span>, <span style=\"color: #00af00; text-decoration-color: #00af00\">64</span>)             │             <span style=\"color: #00af00; text-decoration-color: #00af00\">0</span> │\n",
       "├─────────────────────────────────┼────────────────────────┼───────────────┤\n",
       "│ dense_2 (<span style=\"color: #0087ff; text-decoration-color: #0087ff\">Dense</span>)                 │ (<span style=\"color: #00d7ff; text-decoration-color: #00d7ff\">None</span>, <span style=\"color: #00af00; text-decoration-color: #00af00\">32</span>)             │         <span style=\"color: #00af00; text-decoration-color: #00af00\">2,080</span> │\n",
       "├─────────────────────────────────┼────────────────────────┼───────────────┤\n",
       "│ dense_3 (<span style=\"color: #0087ff; text-decoration-color: #0087ff\">Dense</span>)                 │ (<span style=\"color: #00d7ff; text-decoration-color: #00d7ff\">None</span>, <span style=\"color: #00af00; text-decoration-color: #00af00\">10</span>)             │           <span style=\"color: #00af00; text-decoration-color: #00af00\">330</span> │\n",
       "└─────────────────────────────────┴────────────────────────┴───────────────┘\n",
       "</pre>\n"
      ],
      "text/plain": [
       "┏━━━━━━━━━━━━━━━━━━━━━━━━━━━━━━━━━┳━━━━━━━━━━━━━━━━━━━━━━━━┳━━━━━━━━━━━━━━━┓\n",
       "┃\u001b[1m \u001b[0m\u001b[1mLayer (type)                   \u001b[0m\u001b[1m \u001b[0m┃\u001b[1m \u001b[0m\u001b[1mOutput Shape          \u001b[0m\u001b[1m \u001b[0m┃\u001b[1m \u001b[0m\u001b[1m      Param #\u001b[0m\u001b[1m \u001b[0m┃\n",
       "┡━━━━━━━━━━━━━━━━━━━━━━━━━━━━━━━━━╇━━━━━━━━━━━━━━━━━━━━━━━━╇━━━━━━━━━━━━━━━┩\n",
       "│ conv2d (\u001b[38;5;33mConv2D\u001b[0m)                 │ (\u001b[38;5;45mNone\u001b[0m, \u001b[38;5;34m26\u001b[0m, \u001b[38;5;34m26\u001b[0m, \u001b[38;5;34m32\u001b[0m)     │           \u001b[38;5;34m320\u001b[0m │\n",
       "├─────────────────────────────────┼────────────────────────┼───────────────┤\n",
       "│ batch_normalization             │ (\u001b[38;5;45mNone\u001b[0m, \u001b[38;5;34m26\u001b[0m, \u001b[38;5;34m26\u001b[0m, \u001b[38;5;34m32\u001b[0m)     │           \u001b[38;5;34m128\u001b[0m │\n",
       "│ (\u001b[38;5;33mBatchNormalization\u001b[0m)            │                        │               │\n",
       "├─────────────────────────────────┼────────────────────────┼───────────────┤\n",
       "│ max_pooling2d (\u001b[38;5;33mMaxPooling2D\u001b[0m)    │ (\u001b[38;5;45mNone\u001b[0m, \u001b[38;5;34m13\u001b[0m, \u001b[38;5;34m13\u001b[0m, \u001b[38;5;34m32\u001b[0m)     │             \u001b[38;5;34m0\u001b[0m │\n",
       "├─────────────────────────────────┼────────────────────────┼───────────────┤\n",
       "│ conv2d_1 (\u001b[38;5;33mConv2D\u001b[0m)               │ (\u001b[38;5;45mNone\u001b[0m, \u001b[38;5;34m9\u001b[0m, \u001b[38;5;34m9\u001b[0m, \u001b[38;5;34m64\u001b[0m)       │        \u001b[38;5;34m51,264\u001b[0m │\n",
       "├─────────────────────────────────┼────────────────────────┼───────────────┤\n",
       "│ batch_normalization_1           │ (\u001b[38;5;45mNone\u001b[0m, \u001b[38;5;34m9\u001b[0m, \u001b[38;5;34m9\u001b[0m, \u001b[38;5;34m64\u001b[0m)       │           \u001b[38;5;34m256\u001b[0m │\n",
       "│ (\u001b[38;5;33mBatchNormalization\u001b[0m)            │                        │               │\n",
       "├─────────────────────────────────┼────────────────────────┼───────────────┤\n",
       "│ conv2d_2 (\u001b[38;5;33mConv2D\u001b[0m)               │ (\u001b[38;5;45mNone\u001b[0m, \u001b[38;5;34m7\u001b[0m, \u001b[38;5;34m7\u001b[0m, \u001b[38;5;34m64\u001b[0m)       │        \u001b[38;5;34m36,928\u001b[0m │\n",
       "├─────────────────────────────────┼────────────────────────┼───────────────┤\n",
       "│ batch_normalization_2           │ (\u001b[38;5;45mNone\u001b[0m, \u001b[38;5;34m7\u001b[0m, \u001b[38;5;34m7\u001b[0m, \u001b[38;5;34m64\u001b[0m)       │           \u001b[38;5;34m256\u001b[0m │\n",
       "│ (\u001b[38;5;33mBatchNormalization\u001b[0m)            │                        │               │\n",
       "├─────────────────────────────────┼────────────────────────┼───────────────┤\n",
       "│ max_pooling2d_1 (\u001b[38;5;33mMaxPooling2D\u001b[0m)  │ (\u001b[38;5;45mNone\u001b[0m, \u001b[38;5;34m3\u001b[0m, \u001b[38;5;34m3\u001b[0m, \u001b[38;5;34m64\u001b[0m)       │             \u001b[38;5;34m0\u001b[0m │\n",
       "├─────────────────────────────────┼────────────────────────┼───────────────┤\n",
       "│ flatten (\u001b[38;5;33mFlatten\u001b[0m)               │ (\u001b[38;5;45mNone\u001b[0m, \u001b[38;5;34m576\u001b[0m)            │             \u001b[38;5;34m0\u001b[0m │\n",
       "├─────────────────────────────────┼────────────────────────┼───────────────┤\n",
       "│ dense (\u001b[38;5;33mDense\u001b[0m)                   │ (\u001b[38;5;45mNone\u001b[0m, \u001b[38;5;34m128\u001b[0m)            │        \u001b[38;5;34m73,856\u001b[0m │\n",
       "├─────────────────────────────────┼────────────────────────┼───────────────┤\n",
       "│ dropout (\u001b[38;5;33mDropout\u001b[0m)               │ (\u001b[38;5;45mNone\u001b[0m, \u001b[38;5;34m128\u001b[0m)            │             \u001b[38;5;34m0\u001b[0m │\n",
       "├─────────────────────────────────┼────────────────────────┼───────────────┤\n",
       "│ dense_1 (\u001b[38;5;33mDense\u001b[0m)                 │ (\u001b[38;5;45mNone\u001b[0m, \u001b[38;5;34m64\u001b[0m)             │         \u001b[38;5;34m8,256\u001b[0m │\n",
       "├─────────────────────────────────┼────────────────────────┼───────────────┤\n",
       "│ dropout_1 (\u001b[38;5;33mDropout\u001b[0m)             │ (\u001b[38;5;45mNone\u001b[0m, \u001b[38;5;34m64\u001b[0m)             │             \u001b[38;5;34m0\u001b[0m │\n",
       "├─────────────────────────────────┼────────────────────────┼───────────────┤\n",
       "│ dense_2 (\u001b[38;5;33mDense\u001b[0m)                 │ (\u001b[38;5;45mNone\u001b[0m, \u001b[38;5;34m32\u001b[0m)             │         \u001b[38;5;34m2,080\u001b[0m │\n",
       "├─────────────────────────────────┼────────────────────────┼───────────────┤\n",
       "│ dense_3 (\u001b[38;5;33mDense\u001b[0m)                 │ (\u001b[38;5;45mNone\u001b[0m, \u001b[38;5;34m10\u001b[0m)             │           \u001b[38;5;34m330\u001b[0m │\n",
       "└─────────────────────────────────┴────────────────────────┴───────────────┘\n"
      ]
     },
     "metadata": {},
     "output_type": "display_data"
    },
    {
     "data": {
      "text/html": [
       "<pre style=\"white-space:pre;overflow-x:auto;line-height:normal;font-family:Menlo,'DejaVu Sans Mono',consolas,'Courier New',monospace\"><span style=\"font-weight: bold\"> Total params: </span><span style=\"color: #00af00; text-decoration-color: #00af00\">173,674</span> (678.41 KB)\n",
       "</pre>\n"
      ],
      "text/plain": [
       "\u001b[1m Total params: \u001b[0m\u001b[38;5;34m173,674\u001b[0m (678.41 KB)\n"
      ]
     },
     "metadata": {},
     "output_type": "display_data"
    },
    {
     "data": {
      "text/html": [
       "<pre style=\"white-space:pre;overflow-x:auto;line-height:normal;font-family:Menlo,'DejaVu Sans Mono',consolas,'Courier New',monospace\"><span style=\"font-weight: bold\"> Trainable params: </span><span style=\"color: #00af00; text-decoration-color: #00af00\">173,354</span> (677.16 KB)\n",
       "</pre>\n"
      ],
      "text/plain": [
       "\u001b[1m Trainable params: \u001b[0m\u001b[38;5;34m173,354\u001b[0m (677.16 KB)\n"
      ]
     },
     "metadata": {},
     "output_type": "display_data"
    },
    {
     "data": {
      "text/html": [
       "<pre style=\"white-space:pre;overflow-x:auto;line-height:normal;font-family:Menlo,'DejaVu Sans Mono',consolas,'Courier New',monospace\"><span style=\"font-weight: bold\"> Non-trainable params: </span><span style=\"color: #00af00; text-decoration-color: #00af00\">320</span> (1.25 KB)\n",
       "</pre>\n"
      ],
      "text/plain": [
       "\u001b[1m Non-trainable params: \u001b[0m\u001b[38;5;34m320\u001b[0m (1.25 KB)\n"
      ]
     },
     "metadata": {},
     "output_type": "display_data"
    }
   ],
   "source": [
    "\n",
    "model = Sequential() #model initialization: creates a linear stack of layers where we can add one layer at a time\n",
    "\n",
    "# First convolutional layer with 3x3 filters\n",
    "model.add(Conv2D(32, (3, 3), activation='relu', input_shape=(28, 28, 1))) #adds convolutional layer with 32 filters sized 3x3\n",
    "#the relu (Rectified Linear Unit) activation function is used to introduce non-linearity into the model\n",
    "#input shape specifies the input shape of the images. We reshaped our images to be the original 28x28 grayscale\n",
    "#BatchNormalization normalizes the output of the previous layer. Helps accelerate training.\n",
    "model.add(BatchNormalization())\n",
    "\n",
    "# Add a max pooling layer- Downsamples the feature maps by taking the max value in each 2x2 block. \n",
    "#This reduces the dimensions of the feature maps and helps prevent overfitting\n",
    "model.add(MaxPooling2D(pool_size=(2, 2)))\n",
    "\n",
    "# Second convolutional layer with 5x5 filters - similar process as before\n",
    "model.add(Conv2D(64, (5, 5), activation='relu'))\n",
    "model.add(BatchNormalization())\n",
    "\n",
    "# Third convolutional layer with 3x3 filters\n",
    "model.add(Conv2D(64, (3, 3), activation='relu'))\n",
    "model.add(BatchNormalization())\n",
    "\n",
    "# Another max pooling layer\n",
    "model.add(MaxPooling2D(pool_size=(2, 2)))\n",
    "\n",
    "# Flatten the output and add fully connected layers\n",
    "model.add(Flatten()) #flattens the multi-dimensional output from the convolutional layers into a 1D vecor for the deep/dense layers\n",
    "model.add(Dense(128, activation='relu', kernel_regularizer=l2(0.01))) #fully connected 128 neuron layer with ReLU activation\n",
    "#kernal_regularizer - this applied L2 regularization to the weights in this layer, adding a penalty to the loss of large weights. This helps prevent overfitting\n",
    "model.add(Dropout(0.5)) #this layer randomly drops 50% during training to help prevent overfitting - prevents the model from relying to much on a few neurons\n",
    "model.add(Dense(64, activation='relu', kernel_regularizer=l2(0.01)))\n",
    "model.add(Dropout(0.5))\n",
    "model.add(Dense(32, activation='relu'))\n",
    "model.add(Dense(10, activation='softmax'))\n",
    "\n",
    "# Print model summary\n",
    "model.summary()\n"
   ]
  },
  {
   "cell_type": "markdown",
   "id": "260fa873",
   "metadata": {
    "papermill": {
     "duration": 0.005344,
     "end_time": "2024-10-07T03:53:16.477198",
     "exception": false,
     "start_time": "2024-10-07T03:53:16.471854",
     "status": "completed"
    },
    "tags": []
   },
   "source": [
    "Below is the chunk of code used to train and optimize the model. Trials were done where single optimizers like adam were solely used. However, the best results were obtained when the optimizer was changed halfway through training (when the first optimizer stabilized) from adam: Adaptive Moment Estimation and sgd:Stochastic Gradient Decent. Adam is popular as a first optimizer for its efficiency, and low memory requirements for large datasets. Adam can converge on weights faster than some other optimizers. SGD is popular as a second optimizer as it can fine tune and generalize models. \n",
    "\n",
    "In the below code, and early stopper callback is used. This monitors the progress of the validation loss within the training to decide when to stop training the model to prevent overfitting and data memorization while optimizing the amount of epochs for peak performance. This is better practice than guessing the amount of optimal epochs to train the model for, especially when changing optimizers halfway through. \n",
    "\n",
    "The model usually settles around 9 epochs for the adam optimizer and around 14 for the sgd optimizer. The code also produces a graph to track the validation accuracy and loss through the epochs for each optimizer for a visualization on the optimization of the model.\n",
    "\n"
   ]
  },
  {
   "cell_type": "code",
   "execution_count": 7,
   "id": "adc4c550",
   "metadata": {
    "execution": {
     "iopub.execute_input": "2024-10-07T03:53:16.489604Z",
     "iopub.status.busy": "2024-10-07T03:53:16.489072Z",
     "iopub.status.idle": "2024-10-07T03:57:14.250463Z",
     "shell.execute_reply": "2024-10-07T03:57:14.249593Z"
    },
    "papermill": {
     "duration": 237.769945,
     "end_time": "2024-10-07T03:57:14.252694",
     "exception": false,
     "start_time": "2024-10-07T03:53:16.482749",
     "status": "completed"
    },
    "tags": []
   },
   "outputs": [
    {
     "name": "stdout",
     "output_type": "stream",
     "text": [
      "Epoch 1/20\n"
     ]
    },
    {
     "name": "stderr",
     "output_type": "stream",
     "text": [
      "/opt/conda/lib/python3.10/site-packages/keras/src/trainers/data_adapters/py_dataset_adapter.py:121: UserWarning: Your `PyDataset` class should call `super().__init__(**kwargs)` in its constructor. `**kwargs` can include `workers`, `use_multiprocessing`, `max_queue_size`. Do not pass these arguments to `fit()`, as they will be ignored.\n",
      "  self._warn_if_super_not_called()\n",
      "WARNING: All log messages before absl::InitializeLog() is called are written to STDERR\n",
      "I0000 00:00:1728273199.549390      65 service.cc:145] XLA service 0x7cf0e4008340 initialized for platform CUDA (this does not guarantee that XLA will be used). Devices:\n",
      "I0000 00:00:1728273199.549457      65 service.cc:153]   StreamExecutor device (0): Tesla P100-PCIE-16GB, Compute Capability 6.0\n"
     ]
    },
    {
     "name": "stdout",
     "output_type": "stream",
     "text": [
      "\u001b[1m  45/1500\u001b[0m \u001b[37m━━━━━━━━━━━━━━━━━━━━\u001b[0m \u001b[1m5s\u001b[0m 3ms/step - accuracy: 0.1701 - loss: 5.4211"
     ]
    },
    {
     "name": "stderr",
     "output_type": "stream",
     "text": [
      "I0000 00:00:1728273205.116724      65 device_compiler.h:188] Compiled cluster using XLA!  This line is logged at most once for the lifetime of the process.\n"
     ]
    },
    {
     "name": "stdout",
     "output_type": "stream",
     "text": [
      "\u001b[1m1500/1500\u001b[0m \u001b[32m━━━━━━━━━━━━━━━━━━━━\u001b[0m\u001b[37m\u001b[0m \u001b[1m15s\u001b[0m 4ms/step - accuracy: 0.7780 - loss: 1.9721 - val_accuracy: 0.9704 - val_loss: 0.2530\n",
      "Epoch 2/20\n",
      "\u001b[1m1500/1500\u001b[0m \u001b[32m━━━━━━━━━━━━━━━━━━━━\u001b[0m\u001b[37m\u001b[0m \u001b[1m14s\u001b[0m 4ms/step - accuracy: 0.9815 - loss: 0.2054 - val_accuracy: 0.9748 - val_loss: 0.2050\n",
      "Epoch 3/20\n",
      "\u001b[1m1500/1500\u001b[0m \u001b[32m━━━━━━━━━━━━━━━━━━━━\u001b[0m\u001b[37m\u001b[0m \u001b[1m6s\u001b[0m 4ms/step - accuracy: 0.9862 - loss: 0.1750 - val_accuracy: 0.9786 - val_loss: 0.2016\n",
      "Epoch 4/20\n",
      "\u001b[1m1500/1500\u001b[0m \u001b[32m━━━━━━━━━━━━━━━━━━━━\u001b[0m\u001b[37m\u001b[0m \u001b[1m6s\u001b[0m 4ms/step - accuracy: 0.9880 - loss: 0.1506 - val_accuracy: 0.9694 - val_loss: 0.2510\n",
      "Epoch 5/20\n",
      "\u001b[1m1500/1500\u001b[0m \u001b[32m━━━━━━━━━━━━━━━━━━━━\u001b[0m\u001b[37m\u001b[0m \u001b[1m6s\u001b[0m 4ms/step - accuracy: 0.9913 - loss: 0.1394 - val_accuracy: 0.9783 - val_loss: 0.2048\n",
      "Epoch 6/20\n",
      "\u001b[1m1500/1500\u001b[0m \u001b[32m━━━━━━━━━━━━━━━━━━━━\u001b[0m\u001b[37m\u001b[0m \u001b[1m6s\u001b[0m 4ms/step - accuracy: 0.9888 - loss: 0.1547 - val_accuracy: 0.9774 - val_loss: 0.1959\n",
      "Epoch 7/20\n",
      "\u001b[1m1500/1500\u001b[0m \u001b[32m━━━━━━━━━━━━━━━━━━━━\u001b[0m\u001b[37m\u001b[0m \u001b[1m6s\u001b[0m 4ms/step - accuracy: 0.9913 - loss: 0.1301 - val_accuracy: 0.9769 - val_loss: 0.2239\n",
      "Epoch 8/20\n",
      "\u001b[1m1500/1500\u001b[0m \u001b[32m━━━━━━━━━━━━━━━━━━━━\u001b[0m\u001b[37m\u001b[0m \u001b[1m6s\u001b[0m 4ms/step - accuracy: 0.9921 - loss: 0.1288 - val_accuracy: 0.9756 - val_loss: 0.2597\n",
      "Epoch 9/20\n",
      "\u001b[1m1500/1500\u001b[0m \u001b[32m━━━━━━━━━━━━━━━━━━━━\u001b[0m\u001b[37m\u001b[0m \u001b[1m6s\u001b[0m 4ms/step - accuracy: 0.9908 - loss: 0.1444 - val_accuracy: 0.9769 - val_loss: 0.1845\n",
      "Epoch 10/20\n",
      "\u001b[1m1500/1500\u001b[0m \u001b[32m━━━━━━━━━━━━━━━━━━━━\u001b[0m\u001b[37m\u001b[0m \u001b[1m6s\u001b[0m 4ms/step - accuracy: 0.9913 - loss: 0.1323 - val_accuracy: 0.9775 - val_loss: 0.2135\n",
      "Epoch 11/20\n",
      "\u001b[1m1500/1500\u001b[0m \u001b[32m━━━━━━━━━━━━━━━━━━━━\u001b[0m\u001b[37m\u001b[0m \u001b[1m6s\u001b[0m 4ms/step - accuracy: 0.9924 - loss: 0.1213 - val_accuracy: 0.9808 - val_loss: 0.1712\n",
      "Epoch 12/20\n",
      "\u001b[1m1500/1500\u001b[0m \u001b[32m━━━━━━━━━━━━━━━━━━━━\u001b[0m\u001b[37m\u001b[0m \u001b[1m6s\u001b[0m 4ms/step - accuracy: 0.9920 - loss: 0.1281 - val_accuracy: 0.9829 - val_loss: 0.1852\n",
      "Epoch 13/20\n",
      "\u001b[1m1500/1500\u001b[0m \u001b[32m━━━━━━━━━━━━━━━━━━━━\u001b[0m\u001b[37m\u001b[0m \u001b[1m6s\u001b[0m 4ms/step - accuracy: 0.9935 - loss: 0.1100 - val_accuracy: 0.9822 - val_loss: 0.1936\n",
      "Epoch 14/20\n",
      "\u001b[1m1500/1500\u001b[0m \u001b[32m━━━━━━━━━━━━━━━━━━━━\u001b[0m\u001b[37m\u001b[0m \u001b[1m6s\u001b[0m 4ms/step - accuracy: 0.9923 - loss: 0.1338 - val_accuracy: 0.9832 - val_loss: 0.1633\n",
      "Epoch 15/20\n",
      "\u001b[1m1500/1500\u001b[0m \u001b[32m━━━━━━━━━━━━━━━━━━━━\u001b[0m\u001b[37m\u001b[0m \u001b[1m6s\u001b[0m 4ms/step - accuracy: 0.9949 - loss: 0.0910 - val_accuracy: 0.9816 - val_loss: 0.1799\n",
      "Epoch 16/20\n",
      "\u001b[1m1500/1500\u001b[0m \u001b[32m━━━━━━━━━━━━━━━━━━━━\u001b[0m\u001b[37m\u001b[0m \u001b[1m6s\u001b[0m 4ms/step - accuracy: 0.9937 - loss: 0.1149 - val_accuracy: 0.9789 - val_loss: 0.2052\n",
      "Epoch 17/20\n",
      "\u001b[1m1500/1500\u001b[0m \u001b[32m━━━━━━━━━━━━━━━━━━━━\u001b[0m\u001b[37m\u001b[0m \u001b[1m6s\u001b[0m 4ms/step - accuracy: 0.9930 - loss: 0.1272 - val_accuracy: 0.9827 - val_loss: 0.1719\n",
      "Epoch 18/20\n",
      "\u001b[1m1500/1500\u001b[0m \u001b[32m━━━━━━━━━━━━━━━━━━━━\u001b[0m\u001b[37m\u001b[0m \u001b[1m6s\u001b[0m 4ms/step - accuracy: 0.9951 - loss: 0.0949 - val_accuracy: 0.9758 - val_loss: 0.2478\n",
      "Epoch 19/20\n",
      "\u001b[1m1500/1500\u001b[0m \u001b[32m━━━━━━━━━━━━━━━━━━━━\u001b[0m\u001b[37m\u001b[0m \u001b[1m10s\u001b[0m 4ms/step - accuracy: 0.9925 - loss: 0.1325 - val_accuracy: 0.9783 - val_loss: 0.1957\n",
      "Epoch 1/25\n",
      "\u001b[1m1500/1500\u001b[0m \u001b[32m━━━━━━━━━━━━━━━━━━━━\u001b[0m\u001b[37m\u001b[0m \u001b[1m10s\u001b[0m 4ms/step - accuracy: 0.9967 - loss: 0.0820 - val_accuracy: 0.9841 - val_loss: 0.1270\n",
      "Epoch 2/25\n",
      "\u001b[1m1500/1500\u001b[0m \u001b[32m━━━━━━━━━━━━━━━━━━━━\u001b[0m\u001b[37m\u001b[0m \u001b[1m5s\u001b[0m 4ms/step - accuracy: 0.9978 - loss: 0.0543 - val_accuracy: 0.9843 - val_loss: 0.1093\n",
      "Epoch 3/25\n",
      "\u001b[1m1500/1500\u001b[0m \u001b[32m━━━━━━━━━━━━━━━━━━━━\u001b[0m\u001b[37m\u001b[0m \u001b[1m5s\u001b[0m 3ms/step - accuracy: 0.9986 - loss: 0.0401 - val_accuracy: 0.9855 - val_loss: 0.0937\n",
      "Epoch 4/25\n",
      "\u001b[1m1500/1500\u001b[0m \u001b[32m━━━━━━━━━━━━━━━━━━━━\u001b[0m\u001b[37m\u001b[0m \u001b[1m5s\u001b[0m 3ms/step - accuracy: 0.9987 - loss: 0.0331 - val_accuracy: 0.9850 - val_loss: 0.0933\n",
      "Epoch 5/25\n",
      "\u001b[1m1500/1500\u001b[0m \u001b[32m━━━━━━━━━━━━━━━━━━━━\u001b[0m\u001b[37m\u001b[0m \u001b[1m5s\u001b[0m 4ms/step - accuracy: 0.9986 - loss: 0.0307 - val_accuracy: 0.9841 - val_loss: 0.0915\n",
      "Epoch 6/25\n",
      "\u001b[1m1500/1500\u001b[0m \u001b[32m━━━━━━━━━━━━━━━━━━━━\u001b[0m\u001b[37m\u001b[0m \u001b[1m5s\u001b[0m 4ms/step - accuracy: 0.9985 - loss: 0.0292 - val_accuracy: 0.9828 - val_loss: 0.0964\n",
      "Epoch 7/25\n",
      "\u001b[1m1500/1500\u001b[0m \u001b[32m━━━━━━━━━━━━━━━━━━━━\u001b[0m\u001b[37m\u001b[0m \u001b[1m5s\u001b[0m 4ms/step - accuracy: 0.9985 - loss: 0.0282 - val_accuracy: 0.9842 - val_loss: 0.0914\n",
      "Epoch 8/25\n",
      "\u001b[1m1500/1500\u001b[0m \u001b[32m━━━━━━━━━━━━━━━━━━━━\u001b[0m\u001b[37m\u001b[0m \u001b[1m6s\u001b[0m 4ms/step - accuracy: 0.9986 - loss: 0.0269 - val_accuracy: 0.9847 - val_loss: 0.0882\n",
      "Epoch 9/25\n",
      "\u001b[1m1500/1500\u001b[0m \u001b[32m━━━━━━━━━━━━━━━━━━━━\u001b[0m\u001b[37m\u001b[0m \u001b[1m5s\u001b[0m 4ms/step - accuracy: 0.9990 - loss: 0.0253 - val_accuracy: 0.9841 - val_loss: 0.0910\n",
      "Epoch 10/25\n",
      "\u001b[1m1500/1500\u001b[0m \u001b[32m━━━━━━━━━━━━━━━━━━━━\u001b[0m\u001b[37m\u001b[0m \u001b[1m5s\u001b[0m 3ms/step - accuracy: 0.9989 - loss: 0.0249 - val_accuracy: 0.9852 - val_loss: 0.0880\n",
      "Epoch 11/25\n",
      "\u001b[1m1500/1500\u001b[0m \u001b[32m━━━━━━━━━━━━━━━━━━━━\u001b[0m\u001b[37m\u001b[0m \u001b[1m5s\u001b[0m 4ms/step - accuracy: 0.9986 - loss: 0.0257 - val_accuracy: 0.9848 - val_loss: 0.0905\n",
      "Epoch 12/25\n",
      "\u001b[1m1500/1500\u001b[0m \u001b[32m━━━━━━━━━━━━━━━━━━━━\u001b[0m\u001b[37m\u001b[0m \u001b[1m5s\u001b[0m 3ms/step - accuracy: 0.9990 - loss: 0.0239 - val_accuracy: 0.9844 - val_loss: 0.0887\n",
      "Epoch 13/25\n",
      "\u001b[1m1500/1500\u001b[0m \u001b[32m━━━━━━━━━━━━━━━━━━━━\u001b[0m\u001b[37m\u001b[0m \u001b[1m5s\u001b[0m 4ms/step - accuracy: 0.9986 - loss: 0.0240 - val_accuracy: 0.9853 - val_loss: 0.0848\n",
      "Epoch 14/25\n",
      "\u001b[1m1500/1500\u001b[0m \u001b[32m━━━━━━━━━━━━━━━━━━━━\u001b[0m\u001b[37m\u001b[0m \u001b[1m6s\u001b[0m 4ms/step - accuracy: 0.9991 - loss: 0.0235 - val_accuracy: 0.9842 - val_loss: 0.0901\n",
      "Epoch 15/25\n",
      "\u001b[1m1500/1500\u001b[0m \u001b[32m━━━━━━━━━━━━━━━━━━━━\u001b[0m\u001b[37m\u001b[0m \u001b[1m5s\u001b[0m 4ms/step - accuracy: 0.9990 - loss: 0.0234 - val_accuracy: 0.9837 - val_loss: 0.0894\n",
      "Epoch 16/25\n",
      "\u001b[1m1500/1500\u001b[0m \u001b[32m━━━━━━━━━━━━━━━━━━━━\u001b[0m\u001b[37m\u001b[0m \u001b[1m5s\u001b[0m 4ms/step - accuracy: 0.9991 - loss: 0.0238 - val_accuracy: 0.9839 - val_loss: 0.0914\n",
      "Epoch 17/25\n",
      "\u001b[1m1500/1500\u001b[0m \u001b[32m━━━━━━━━━━━━━━━━━━━━\u001b[0m\u001b[37m\u001b[0m \u001b[1m5s\u001b[0m 4ms/step - accuracy: 0.9988 - loss: 0.0232 - val_accuracy: 0.9858 - val_loss: 0.0860\n",
      "Epoch 18/25\n",
      "\u001b[1m1500/1500\u001b[0m \u001b[32m━━━━━━━━━━━━━━━━━━━━\u001b[0m\u001b[37m\u001b[0m \u001b[1m5s\u001b[0m 4ms/step - accuracy: 0.9990 - loss: 0.0224 - val_accuracy: 0.9827 - val_loss: 0.0941\n"
     ]
    },
    {
     "data": {
      "image/png": "[encoded data removed]",
      "text/plain": [
       "<Figure size 1200x600 with 1 Axes>"
      ]
     },
     "metadata": {},
     "output_type": "display_data"
    }
   ],
   "source": [
    "\n",
    "# Create the EarlyStopping callback\n",
    "early_stopping = EarlyStopping(\n",
    "    monitor='val_loss',  # Monitor validation loss\n",
    "    patience=5,          # Number of epochs with no improvement\n",
    "    restore_best_weights=True  # Restore the best model weights when stopped\n",
    ")\n",
    "\n",
    "# Compile the model with Adam optimizer\n",
    "model.compile(optimizer='adam', loss='sparse_categorical_crossentropy', metrics=['accuracy'])\n",
    "\n",
    "# Train the model with Adam optimizer\n",
    "history = model.fit(\n",
    "    train_generator,\n",
    "    validation_data=validation_generator,\n",
    "    epochs=20,  # Train with Adam for the first 20 epochs or until the early stopping kicks in\n",
    "    callbacks=[early_stopping]\n",
    ")\n",
    "\n",
    "# Change optimizer to SGD and compile the model again\n",
    "model.compile(optimizer='sgd', loss='sparse_categorical_crossentropy', metrics=['accuracy'])\n",
    "\n",
    "# Continue training with SGD optimizer\n",
    "history_sgd = model.fit(\n",
    "    train_generator,\n",
    "    validation_data=validation_generator,\n",
    "    epochs=25,  # Continue training for another 25 epochs or until the early stopper kicks in\n",
    "    callbacks=[early_stopping]\n",
    ")\n",
    "\n",
    "# Plot validation loss and accuracy for each optimizer\n",
    "plt.figure(figsize=(12, 6))\n",
    "\n",
    "# Plot validation loss for Adam\n",
    "plt.plot(history.history['val_loss'], label='Adam: Validation Loss', color='blue')\n",
    "# Plot validation accuracy for Adam\n",
    "plt.plot(history.history['val_accuracy'], label='Adam: Validation Accuracy', color='cyan')\n",
    "\n",
    "# Plot validation loss for SGD\n",
    "plt.plot(history_sgd.history['val_loss'], label='SGD: Validation Loss', color='orange')\n",
    "# Plot validation accuracy for SGD\n",
    "plt.plot(history_sgd.history['val_accuracy'], label='SGD: Validation Accuracy', color='yellow')\n",
    "\n",
    "# Add titles and labels\n",
    "plt.title('Validation Score vs Epoch Number')\n",
    "plt.xlabel('Epoch Number')\n",
    "plt.ylabel('Score')\n",
    "plt.legend()\n",
    "plt.grid()\n",
    "plt.show()\n"
   ]
  },
  {
   "cell_type": "markdown",
   "id": "56380fb7",
   "metadata": {
    "papermill": {
     "duration": 0.274823,
     "end_time": "2024-10-07T03:57:14.805130",
     "exception": false,
     "start_time": "2024-10-07T03:57:14.530307",
     "status": "completed"
    },
    "tags": []
   },
   "source": [
    "The below chunk loads and feeds the test data through the model and makes predictions on it based on the training done in the previous step. The data is prepared in a similar manner as before, needing to reshape it to 28x28x1 images and rescaling the pixels.\n",
    "\n",
    "The predictions are stored in a csv file called \"submission_csv\" for Kaggle submission and scoring. A score of .97240 was achieved. I was happy with this score and thought it to be impressive for a CNN made from scratch."
   ]
  },
  {
   "cell_type": "code",
   "execution_count": 8,
   "id": "f23305f3",
   "metadata": {
    "execution": {
     "iopub.execute_input": "2024-10-07T03:57:15.356648Z",
     "iopub.status.busy": "2024-10-07T03:57:15.355890Z",
     "iopub.status.idle": "2024-10-07T03:57:27.417936Z",
     "shell.execute_reply": "2024-10-07T03:57:27.416855Z"
    },
    "papermill": {
     "duration": 12.340471,
     "end_time": "2024-10-07T03:57:27.419981",
     "exception": false,
     "start_time": "2024-10-07T03:57:15.079510",
     "status": "completed"
    },
    "tags": []
   },
   "outputs": [
    {
     "name": "stderr",
     "output_type": "stream",
     "text": [
      "/opt/conda/lib/python3.10/site-packages/keras/src/trainers/data_adapters/py_dataset_adapter.py:121: UserWarning: Your `PyDataset` class should call `super().__init__(**kwargs)` in its constructor. `**kwargs` can include `workers`, `use_multiprocessing`, `max_queue_size`. Do not pass these arguments to `fit()`, as they will be ignored.\n",
      "  self._warn_if_super_not_called()\n"
     ]
    },
    {
     "name": "stdout",
     "output_type": "stream",
     "text": [
      "\u001b[1m5000/5000\u001b[0m \u001b[32m━━━━━━━━━━━━━━━━━━━━\u001b[0m\u001b[37m\u001b[0m \u001b[1m9s\u001b[0m 2ms/step\n",
      "Submission file created successfully!\n"
     ]
    }
   ],
   "source": [
    "# Step 1: Load and preprocess the test data\n",
    "test_df = pd.read_csv('/kaggle/input/Kannada-MNIST/test.csv')\n",
    "\n",
    "# Extract the test data (without labels, only pixel data)\n",
    "X_test = test_df.iloc[:, 1:].values.astype(np.float32)  # pixel data\n",
    "\n",
    "# Reshape to (num_samples, 28, 28) - 1 channel grayscale images\n",
    "X_test_reshaped = X_test.reshape(-1, 28, 28)\n",
    "\n",
    "# Add the channel dimension (1 for grayscale)\n",
    "X_test_reshaped = np.expand_dims(X_test_reshaped, axis=-1)  # Now shape is (5000, 28, 28, 1)\n",
    "\n",
    "# Normalize pixel values to the range [0, 1] using ImageDataGenerator\n",
    "test_datagen = ImageDataGenerator(rescale=1.0 / 255.0)  # Normalize pixel values\n",
    "\n",
    "# Flow the data through the generator\n",
    "test_generator = test_datagen.flow(X_test_reshaped, batch_size=1, shuffle=False)\n",
    "\n",
    "# Step 3: Predict labels for the test data using the trained model\n",
    "# Use the test generator to make predictions\n",
    "test_predictions = model.predict(test_generator, verbose=1)\n",
    "\n",
    "# Convert probabilities to predicted class labels (taking the argmax across the last dimension)\n",
    "test_predicted_labels = np.argmax(test_predictions, axis=1)\n",
    "\n",
    "# Step 4: Prepare the submission file with 'id' and 'label'\n",
    "submission_df = pd.DataFrame({\n",
    "    'id': test_df['id'],  # Assuming 'id' column exists in the test.csv\n",
    "    'label': test_predicted_labels\n",
    "})\n",
    "\n",
    "# Save the submission DataFrame to a CSV file\n",
    "submission_df.to_csv('submission.csv', index=False)\n",
    "\n",
    "print(\"Submission file created successfully!\")"
   ]
  }
 ],
 "metadata": {
  "kaggle": {
   "accelerator": "gpu",
   "dataSources": [
    {
     "databundleVersionId": 708189,
     "sourceId": 16017,
     "sourceType": "competition"
    }
   ],
   "dockerImageVersionId": 30787,
   "isGpuEnabled": true,
   "isInternetEnabled": false,
   "language": "python",
   "sourceType": "notebook"
  },
  "kernelspec": {
   "display_name": "Python 3",
   "language": "python",
   "name": "python3"
  },
  "language_info": {
   "codemirror_mode": {
    "name": "ipython",
    "version": 3
   },
   "file_extension": ".py",
   "mimetype": "text/x-python",
   "name": "python",
   "nbconvert_exporter": "python",
   "pygments_lexer": "ipython3",
   "version": "3.10.14"
  },
  "papermill": {
   "default_parameters": {},
   "duration": 275.807714,
   "end_time": "2024-10-07T03:57:29.731627",
   "environment_variables": {},
   "exception": null,
   "input_path": "__notebook__.ipynb",
   "output_path": "__notebook__.ipynb",
   "parameters": {},
   "start_time": "2024-10-07T03:52:53.923913",
   "version": "2.6.0"
  }
 },
 "nbformat": 4,
 "nbformat_minor": 5
}
